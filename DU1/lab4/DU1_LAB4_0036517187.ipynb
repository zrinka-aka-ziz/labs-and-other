{
  "nbformat": 4,
  "nbformat_minor": 0,
  "metadata": {
    "colab": {
      "provenance": []
    },
    "kernelspec": {
      "name": "python3",
      "display_name": "Python 3"
    },
    "language_info": {
      "name": "python"
    }
  },
  "cells": [
    {
      "cell_type": "code",
      "execution_count": 1,
      "metadata": {
        "id": "bbm63AUF34cy"
      },
      "outputs": [],
      "source": [
        "import json\n",
        "import os\n",
        "\n",
        "from matplotlib import pyplot as plt\n",
        "import torch"
      ]
    },
    {
      "cell_type": "code",
      "source": [
        "!python3 train1.py"
      ],
      "metadata": {
        "colab": {
          "base_uri": "https://localhost:8080/"
        },
        "id": "ie3WnzzWQoVy",
        "outputId": "401bdd94-bdb3-4920-e0fd-e0595ef456cf"
      },
      "execution_count": 6,
      "outputs": [
        {
          "output_type": "stream",
          "name": "stdout",
          "text": [
            "= Using device cpu\n",
            "> Loaded 60000 training images!\n",
            "> Loaded 10000 validation images!\n",
            "/usr/local/lib/python3.10/dist-packages/torch/utils/data/dataloader.py:560: UserWarning: This DataLoader will create 4 worker processes in total. Our suggested max number of worker in current system is 2, which is smaller than what this DataLoader is going to create. Please be aware that excessive worker creation might get DataLoader running slow or even freeze, lower the worker number to avoid potential slowness/freeze if necessary.\n",
            "  warnings.warn(_create_warning_msg(\n",
            "Epoch: 0\n",
            "Iter: 0, Mean Loss: 0.758\n",
            "Iter: 100, Mean Loss: 0.239\n",
            "Iter: 200, Mean Loss: 0.192\n",
            "Iter: 300, Mean Loss: 0.176\n",
            "Iter: 400, Mean Loss: 0.166\n",
            "Iter: 500, Mean Loss: 0.159\n",
            "Iter: 600, Mean Loss: 0.151\n",
            "Iter: 700, Mean Loss: 0.146\n",
            "Iter: 800, Mean Loss: 0.142\n",
            "Iter: 900, Mean Loss: 0.138\n",
            "Mean Loss in Epoch 0: 0.136\n",
            "Computing mean representations for evaluation...\n",
            "Evaluating on test set...\n",
            "Epoch 0: Test Accuracy: 95.81%\n",
            "Epoch time (sec): 184.3\n",
            "Epoch: 1\n",
            "Iter: 0, Mean Loss: 0.125\n",
            "Iter: 100, Mean Loss: 0.103\n",
            "Iter: 200, Mean Loss: 0.105\n",
            "Iter: 300, Mean Loss: 0.102\n",
            "Iter: 400, Mean Loss: 0.098\n",
            "Iter: 500, Mean Loss: 0.096\n",
            "Iter: 600, Mean Loss: 0.093\n",
            "Iter: 700, Mean Loss: 0.090\n",
            "Iter: 800, Mean Loss: 0.088\n",
            "Iter: 900, Mean Loss: 0.088\n",
            "Mean Loss in Epoch 1: 0.087\n",
            "Computing mean representations for evaluation...\n",
            "Evaluating on test set...\n",
            "Epoch 1: Test Accuracy: 96.45%\n",
            "Epoch time (sec): 191.7\n",
            "Epoch: 2\n",
            "Iter: 0, Mean Loss: 0.034\n",
            "Iter: 100, Mean Loss: 0.075\n",
            "Iter: 200, Mean Loss: 0.071\n",
            "Iter: 300, Mean Loss: 0.068\n",
            "Iter: 400, Mean Loss: 0.065\n",
            "Iter: 500, Mean Loss: 0.063\n",
            "Iter: 600, Mean Loss: 0.063\n",
            "Iter: 700, Mean Loss: 0.061\n",
            "Iter: 800, Mean Loss: 0.058\n",
            "Iter: 900, Mean Loss: 0.056\n",
            "Mean Loss in Epoch 2: 0.056\n",
            "Computing mean representations for evaluation...\n",
            "Evaluating on test set...\n",
            "Epoch 2: Test Accuracy: 96.97%\n",
            "Epoch time (sec): 187.3\n"
          ]
        }
      ]
    },
    {
      "cell_type": "code",
      "source": [
        "!python3 train2.py"
      ],
      "metadata": {
        "colab": {
          "base_uri": "https://localhost:8080/"
        },
        "id": "x0vmebokerhM",
        "outputId": "3ddbc4e9-60f0-4770-de5a-1f6d59ae9f1a"
      },
      "execution_count": 8,
      "outputs": [
        {
          "output_type": "stream",
          "name": "stdout",
          "text": [
            "= Using device cpu\n",
            "> Loaded 60000 training images!\n",
            "> Loaded 10000 validation images!\n",
            "/usr/local/lib/python3.10/dist-packages/torch/utils/data/dataloader.py:560: UserWarning: This DataLoader will create 4 worker processes in total. Our suggested max number of worker in current system is 2, which is smaller than what this DataLoader is going to create. Please be aware that excessive worker creation might get DataLoader running slow or even freeze, lower the worker number to avoid potential slowness/freeze if necessary.\n",
            "  warnings.warn(_create_warning_msg(\n",
            "Evaluating on test set...\n",
            "Test Accuracy: 82.16%\n"
          ]
        }
      ]
    },
    {
      "cell_type": "code",
      "source": [
        "!python3 train.py"
      ],
      "metadata": {
        "colab": {
          "base_uri": "https://localhost:8080/"
        },
        "id": "0XVnkUEAgmX2",
        "outputId": "53dde6ab-44cf-410a-b0fc-99bc08f80b0b"
      },
      "execution_count": 9,
      "outputs": [
        {
          "output_type": "stream",
          "name": "stdout",
          "text": [
            "= Using device cpu\n",
            "> Loaded 60000 training images!\n",
            "> Loaded 10000 validation images!\n",
            "/usr/local/lib/python3.10/dist-packages/torch/utils/data/dataloader.py:560: UserWarning: This DataLoader will create 4 worker processes in total. Our suggested max number of worker in current system is 2, which is smaller than what this DataLoader is going to create. Please be aware that excessive worker creation might get DataLoader running slow or even freeze, lower the worker number to avoid potential slowness/freeze if necessary.\n",
            "  warnings.warn(_create_warning_msg(\n",
            "Epoch: 0\n",
            "Iter: 0, Mean Loss: 0.782\n",
            "Iter: 100, Mean Loss: 0.248\n",
            "Iter: 200, Mean Loss: 0.198\n",
            "Iter: 300, Mean Loss: 0.177\n",
            "Iter: 400, Mean Loss: 0.164\n",
            "Iter: 500, Mean Loss: 0.155\n",
            "Iter: 600, Mean Loss: 0.146\n",
            "Iter: 700, Mean Loss: 0.140\n",
            "Iter: 800, Mean Loss: 0.133\n",
            "Mean Loss in Epoch 0: 0.131\n",
            "Computing mean representations for evaluation...\n",
            "Evaluating on test set...\n",
            "Epoch 0: Test Accuracy: 93.57%\n",
            "Epoch time (sec): 183.6\n",
            "Epoch: 1\n",
            "Iter: 0, Mean Loss: 0.110\n",
            "Iter: 100, Mean Loss: 0.073\n",
            "Iter: 200, Mean Loss: 0.069\n",
            "Iter: 300, Mean Loss: 0.067\n",
            "Iter: 400, Mean Loss: 0.063\n",
            "Iter: 500, Mean Loss: 0.061\n",
            "Iter: 600, Mean Loss: 0.059\n",
            "Iter: 700, Mean Loss: 0.059\n",
            "Iter: 800, Mean Loss: 0.056\n",
            "Mean Loss in Epoch 1: 0.056\n",
            "Computing mean representations for evaluation...\n",
            "Evaluating on test set...\n",
            "Epoch 1: Test Accuracy: 94.84%\n",
            "Epoch time (sec): 178.8\n",
            "Epoch: 2\n",
            "Iter: 0, Mean Loss: 0.091\n",
            "Iter: 100, Mean Loss: 0.040\n",
            "Iter: 200, Mean Loss: 0.038\n",
            "Iter: 300, Mean Loss: 0.036\n",
            "Iter: 400, Mean Loss: 0.034\n",
            "Iter: 500, Mean Loss: 0.032\n",
            "Iter: 600, Mean Loss: 0.032\n",
            "Iter: 700, Mean Loss: 0.030\n",
            "Iter: 800, Mean Loss: 0.030\n",
            "Mean Loss in Epoch 2: 0.030\n",
            "Computing mean representations for evaluation...\n",
            "Evaluating on test set...\n",
            "Epoch 2: Test Accuracy: 94.34%\n",
            "Epoch time (sec): 175.9\n"
          ]
        }
      ]
    },
    {
      "cell_type": "code",
      "source": [
        "!python3 visualize.py"
      ],
      "metadata": {
        "colab": {
          "base_uri": "https://localhost:8080/"
        },
        "id": "y6_2SmZHi3mz",
        "outputId": "5d3cbc7f-8661-4333-db0e-c750e43ff2be"
      },
      "execution_count": 15,
      "outputs": [
        {
          "output_type": "stream",
          "name": "stdout",
          "text": [
            "= Using device cpu\n",
            "Fitting PCA directly from images...\n",
            "Fitting PCA from feature representation\n"
          ]
        }
      ]
    },
    {
      "cell_type": "code",
      "source": [
        "!python3 visualize2.py"
      ],
      "metadata": {
        "colab": {
          "base_uri": "https://localhost:8080/"
        },
        "id": "ayxYQbAdkvND",
        "outputId": "31d22926-5316-40c9-9a8b-f8d945f4cfb5"
      },
      "execution_count": 16,
      "outputs": [
        {
          "output_type": "stream",
          "name": "stdout",
          "text": [
            "= Using device cpu\n",
            "Fitting PCA directly from images...\n",
            "Fitting PCA from feature representation\n"
          ]
        }
      ]
    }
  ]
}