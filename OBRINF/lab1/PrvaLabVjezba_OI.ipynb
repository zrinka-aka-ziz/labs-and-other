{
  "nbformat": 4,
  "nbformat_minor": 0,
  "metadata": {
    "colab": {
      "name": "PrvaLabVjezba_OI.ipynb",
      "provenance": [],
      "collapsed_sections": []
    },
    "kernelspec": {
      "name": "python3",
      "display_name": "Python 3"
    }
  },
  "cells": [
    {
      "cell_type": "markdown",
      "metadata": {
        "id": "sQDhjFbIrhoS"
      },
      "source": [
        "**Obrada informacija**: Prva laboratorijska vježba"
      ]
    },
    {
      "cell_type": "markdown",
      "metadata": {
        "id": "zsrcQP6Ert0H"
      },
      "source": [
        "Rijeke imaju veliki gospodarski značaj, od termoelektrana i nuklearnih elektrana kojima su rijeke nužne za rad, javne vodoopskrbe do poljoprivrede i transporta. Premda ljudi danas uvelike upravljaju vodotocima, uslijed vremenskih prilika ipak može doći do poplava, erozija tla i sličnih prirodnih nepogoda. Kako bismo se mogli na vrijeme pripremiti za potencijalne probleme, potrebno je istražiti ponašanje rijeka na temelju višegodišnjih praćenja vodostaja. U ovoj laboratorijskoj vježbi ćete analizirati vodostaje rijeke Save kroz period od 25 godina.\n",
        "\n",
        "Unutar komprimiranog direktorija u kojem se nalazi ova bilježnica, nalazi se i .mat datoteka s podacima o vodostaju rijeke Save u periodu od 1.1.1982. do 31.12.2007. Svaki podatak označava jedan dan mjerenja vodostaja. \n",
        "\n",
        "Vježba se izvodi u Pythonu/Google Colabu, a sve naredbe potrebne za provedbu vježbe te njihova objašnjenja dana su u predavanju. Ova laboratorijska vježba nosi 3 boda. \n",
        "\n",
        "Kad ste gotovi s vježbom, na *Moodle* postavite .pdf izvješće s vježbe (.pdf izvješće možete generirati s naredbom File-Print-Location: PDF). "
      ]
    },
    {
      "cell_type": "markdown",
      "metadata": {
        "id": "x4J_VQ7IsAVP"
      },
      "source": [
        "**1.**\tUčitajte biblioteke: NumPy, matplotlib.pyplot, scipy.fft, signal iz scipy te pywt."
      ]
    },
    {
      "cell_type": "code",
      "metadata": {
        "id": "qiX4GFK3sE8i"
      },
      "source": [
        "# Ovo je mjesto na kojem možete izvoditi svoj kod. "
      ],
      "execution_count": null,
      "outputs": []
    },
    {
      "cell_type": "markdown",
      "metadata": {
        "id": "JxtULT99sM2R"
      },
      "source": [
        "**2.**\tUčitajte podatke o vodostaju iz .mat datoteke koja se nalazi unutar istog komprimiranog direktorija. Učitani podaci su spremljeni u rječnik. Izdvojite ključ i pripadne podatke o vodostajima te po potrebi smanjite dimenziju.\n",
        "\n",
        "Savjet: .mat datoteku učitajte sa svog Google Drivea (unutar mape Colab Notebooks na svom Google Driveu postavite .mat datoteku). Ostali savjeti nalaze se u sljedećem programskom odsječku. "
      ]
    },
    {
      "cell_type": "code",
      "metadata": {
        "id": "zYzChRsUyMK1"
      },
      "source": [
        "# Ovo je mjesto na kojem možete izvoditi svoj kod. \n",
        "\n",
        "from google.colab import drive\n",
        "drive.mount('/content/drive')\n",
        "\n",
        "# Nakon što pokrenete ovaj odsječak koda, pojavit će se link u prozoru ispod. Kliknite na link, prijavite se sa svojim Google računom te ćete \n",
        "# dobiti kod koji trebate kopirati u izlaz ispod ovog prozora (u prozor \"Enter your authorization code: \"). Nakon što upišete dobiveni kod, \n",
        "# pojavit će se poruka \"Mounted at /content/drive\". \n",
        "# Ako unutar takvog Colab Notebook direktorija imate spremljenu datoteku \"OIkobas.mat\", možete joj pristupiti sljedećim liniijama koda:\n",
        "#from scipy import io\n",
        "#kobas_iz_matlaba=io.loadmat(\"drive/My Drive/Colab Notebooks/OIkobas.mat\")\n",
        "#print(kobas_iz_matlaba)"
      ],
      "execution_count": null,
      "outputs": []
    },
    {
      "cell_type": "markdown",
      "metadata": {
        "id": "6sV18jFosYJQ"
      },
      "source": [
        "**3.**\tIspišite: broj dana za koje postoje podaci o vodostajima, srednju vrijednost vodostaja, standardnu devijaciju, minimalnu vrijednost, maksimalnu vrijednost te median."
      ]
    },
    {
      "cell_type": "code",
      "metadata": {
        "id": "SjnKD-3Fsb4i"
      },
      "source": [
        "# Ovo je mjesto na kojem možete izvoditi svoj kod. "
      ],
      "execution_count": null,
      "outputs": []
    },
    {
      "cell_type": "markdown",
      "metadata": {
        "id": "ZIiefntfsdRx"
      },
      "source": [
        "**4.** Nacrtajte vodostaj. Obilježite x i y os te naslov slike. "
      ]
    },
    {
      "cell_type": "code",
      "metadata": {
        "id": "rburqSResg1r"
      },
      "source": [
        "# Ovo je mjesto na kojem možete izvoditi svoj kod. "
      ],
      "execution_count": null,
      "outputs": []
    },
    {
      "cell_type": "markdown",
      "metadata": {
        "id": "tA1XQ-Cfsiyg"
      },
      "source": [
        "**5.**\tIzračunajte diskretnu Fourierovu transformaciju zadanog vodostaja. Ispišite dobivene vrijednosti. Nacrtajte apsolutnu vrijednost dobivenih koeficijenata."
      ]
    },
    {
      "cell_type": "code",
      "metadata": {
        "id": "FLm7O1QTspvH"
      },
      "source": [
        "# Ovo je mjesto na kojem možete izvoditi svoj kod. "
      ],
      "execution_count": null,
      "outputs": []
    },
    {
      "cell_type": "markdown",
      "metadata": {
        "id": "mwPKgFGZs1UD"
      },
      "source": [
        "**6.**\tIzračunajte Fourierovu transformaciju na vremenskom otvoru zadanog vodostaja koristeći pravokutni otvor širine 2 godine. Prikažite rezultat pomoću pcolormesh. Odgovorite: koje frekvencije su vidljive u vodostaju? Koje godine se javljaju?"
      ]
    },
    {
      "cell_type": "code",
      "metadata": {
        "id": "E9Yolh4ls5PG"
      },
      "source": [
        "# Ovo je mjesto na kojem možete izvoditi svoj kod. "
      ],
      "execution_count": null,
      "outputs": []
    },
    {
      "cell_type": "markdown",
      "metadata": {
        "id": "iqOGgM9_tZqs"
      },
      "source": [
        "ODGOVOR: *Ovo je mjesto za odgovor na pitanja iz 6. zadatka.*"
      ]
    },
    {
      "cell_type": "markdown",
      "metadata": {
        "id": "Q11MlmPfs6mw"
      },
      "source": [
        "**7.**\tUpotrijebite drugu širinu otvora (po izboru) i ponovite prethodni zadatak. Ispišite koju širinu ste upotrijebili. Objasnite razlike u dobivenim slikama."
      ]
    },
    {
      "cell_type": "code",
      "metadata": {
        "id": "q5sXhzvas92w"
      },
      "source": [
        "# Ovo je mjesto na kojem možete izvoditi svoj kod. "
      ],
      "execution_count": null,
      "outputs": []
    },
    {
      "cell_type": "markdown",
      "metadata": {
        "id": "ke2eRlnftjOq"
      },
      "source": [
        "ODGOVOR: *Ovo je mjesto za odgovor na pitanje iz 7. zadatka.*"
      ]
    },
    {
      "cell_type": "markdown",
      "metadata": {
        "id": "M_z5z8Ijs_O5"
      },
      "source": [
        "**8.**\tIspišite sve obitelji kontinuiranih valića koje se nalaze u PyWavelets biblioteci. Na istoj slici, koristeći subplot naredbu, nacrtajte dvije valićne funkcije po izboru. U naslovu svake slike napišite o kojim valićima se radi."
      ]
    },
    {
      "cell_type": "code",
      "metadata": {
        "id": "zsugVk0stDLs"
      },
      "source": [
        "# Ovo je mjesto na kojem možete izvoditi svoj kod. "
      ],
      "execution_count": null,
      "outputs": []
    },
    {
      "cell_type": "markdown",
      "metadata": {
        "id": "11DFQvCHtEua"
      },
      "source": [
        "**9.**\tKoristeći Morlet valić, odredite kontinuiranu valićnu transformaciju zadanog vodostaja. Nacrtajte apsolutnu vrijednost dobivenih koeficijenata. Odgovorite: koje frekvencije su vidljive u vodostaju? Koje godine se javljaju?"
      ]
    },
    {
      "cell_type": "code",
      "metadata": {
        "id": "Fl6MQxE7tMDP"
      },
      "source": [
        "# Ovo je mjesto na kojem možete izvoditi svoj kod. "
      ],
      "execution_count": null,
      "outputs": []
    },
    {
      "cell_type": "markdown",
      "metadata": {
        "id": "3WlbMIoNtoYf"
      },
      "source": [
        "ODGOVOR: *Ovo je mjesto za odgovor na pitanja iz 9. zadatka.*"
      ]
    },
    {
      "cell_type": "markdown",
      "metadata": {
        "id": "azZ8SezLtJnN"
      },
      "source": [
        "**10.**\tOdgovorite: objasnite razliku u dobivenim rezultatima STFT i CWT."
      ]
    },
    {
      "cell_type": "markdown",
      "metadata": {
        "id": "x3mnyxWLtuZj"
      },
      "source": [
        "ODGOVOR: *Ovo je mjesto za odgovor na pitanje iz 10. zadatka.*"
      ]
    }
  ]
}