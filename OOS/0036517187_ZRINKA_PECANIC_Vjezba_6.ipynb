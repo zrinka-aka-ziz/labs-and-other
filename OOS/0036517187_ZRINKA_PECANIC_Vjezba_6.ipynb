{
  "nbformat": 4,
  "nbformat_minor": 0,
  "metadata": {
    "colab": {
      "provenance": []
    },
    "kernelspec": {
      "name": "python3",
      "display_name": "Python 3"
    }
  },
  "cells": [
    {
      "cell_type": "markdown",
      "metadata": {
        "id": "17gpYVH0HG2r"
      },
      "source": [
        "Sveučilište u Zagrebu<br/>\n",
        "Fakultet elektrotehnike i računarstva<br/>\n",
        "Zavod za elektroničke sustave i obradbu informacija\n",
        "\n",
        "Akademska školska godina 2022./2023.\n",
        "\n",
        "**6. vježba: Brza Fourierova transformacija**\n",
        "\n",
        "*Osnove obradbe signala* (183447, 223374)\n",
        "\n",
        "Autor: Tomislav Petković\n",
        "\n",
        "Prijevod s engleskog jezika: Domagoj Zoraja\n",
        "\n",
        "Datum: 2022-10-05\n",
        "\n",
        "Molimo vas da komentare na ove upute (ispravke, primjedbe, prijedloge itd.) šaljete e-poštom na tomislav.petkovic.jr@fer.hr."
      ]
    },
    {
      "cell_type": "markdown",
      "metadata": {
        "id": "kGS9gdue90mF"
      },
      "source": [
        "© Sveučilište u Zagrebu Fakultet elektrotehnike i računarstva, 2022.\n",
        "\n",
        "Umnažanje i distribucija ovih uputa je dozvoljena samo ako svaka kopija sadrži gorenavedenu informaciju o autorskim pravima te ovu dozvolu o umnažanju."
      ]
    },
    {
      "cell_type": "markdown",
      "metadata": {
        "id": "nbp4R_gNpLKV"
      },
      "source": [
        "# Uvod\n",
        "\n",
        "Upute za šestu laboratorijsku vježbu iz predmeta *Osnove obradbe signala* su pripremljene u obliku <a href=\"https://jupyter.org/\">Jupyterske</a> bilježnice.\n",
        "\n",
        "Jupyterska bilježnica koristi <a href=\"https://ipython.org/\">IPython</a> koji je interaktivni interpreter za Pyhton. Jupytersku bilježnicu možete pokrenuti lokalno, no isto tako je možete pokrenuti udaljeno na Googleovom Colaboratoryu.\n",
        "\n",
        "Svi zadaci u ovoj bilježnici su dovoljno jednostavni tako da se mogu riješiti korištenjem <a href=\"https://colab.research.google.com\">Googleovog Colaboratorya</a> (skraćeno Colab).\n",
        "\n",
        "Svaki softver je samo alat. Sukaldno tome, osim Pythona slobodno smijete koristiti i druge alate kao što su <a href=\"https://www.mathworks.com/products/matlab.html\">Matlab</a>, <a href=\"https://www.gnu.org/software/octave/index\">GNU Octave</a> i <a href=\"https://www.scilab.org/\">Scilab</a> kako bi riješili zadane zadatke. Napominjemo da korištenje drugih alata može značiti da vaš izvještaj s vježbe ne možete predati popunjavanjem ove bilježnice, odnosno da morate pripremiti novi pisani izvještaj. Dodatno, nastavnici vam mogu pomoći oko izrade vježbe samo ako koristite Colab i/ili Matlab."
      ]
    },
    {
      "cell_type": "markdown",
      "metadata": {
        "id": "WlRpFNuqEqTM"
      },
      "source": [
        "## Upute za predaju izvještaja s vježbe\n",
        "\n",
        "Ako rješavate vježbu u Pythonu korištenjem Colaba onda jednostavn upišite vaše odgovore u prazna polja, i to programski kod u polja za kod te odgovore na postavljena pitanja u tekstualna polja.\n",
        "\n",
        "Prazna polja u koja upisujete programski kod sadrže zadani komentar: `# Upišite vaše rješenje`.\n",
        "\n",
        "Tekstualna polja u koja morate upisati odgovore na postavljena pitanja sadrže masni tekst napisan velikim tiskanim slovima: **UPIŠITE VAŠ ODGOVOR**.\n",
        "\n",
        "Jednom kada su svi zadaci riješeni ispunjenu bilježnicu pohranite u datoteku s imenom `JMBAG_IME_PREZIME_Vjezba_6.ipynb` te tu datoteku predajte pod odgovarajuću zadaću u FER-ovom Moodleu.\n",
        "\n",
        "Predane bilježnice mogu biti automatski re-evaluirane što odgovara naredbi  *Restart and run all* u Colabu. Prema tome, svakako prije predaje vaše bilježnice pokrenite tu naredbu i provjerite ispravnost vaših rješenja.\n",
        "\n",
        "Ako ste vježbu izradili korištenjem nekog drugog softvera koji nije kompatibilan s Jupyterskom bilježnicom onda morate pripremiti standardni pisani izvještaj s laboratorijske vježbe."
      ]
    },
    {
      "cell_type": "markdown",
      "metadata": {
        "id": "B_rW2yC3Eqf8"
      },
      "source": [
        "## Podaci o studentu\n",
        "\n",
        "Molimo vas da prije ispunjavanja ostatka bilježnice dvaput kliknete na ovaj tekst te zatim upište vaše podatke:\n",
        "\n",
        "Ime: **ZRINKA PEĆANIĆ**\n",
        "\n",
        "Matični broj (JMBAG): **0036517187**\n",
        "\n",
        "Također odmah promijenite ime datoteke u `JMBAG_IME_PREZIME.ipynb`."
      ]
    },
    {
      "cell_type": "markdown",
      "metadata": {
        "id": "A_bBYIVb7huY"
      },
      "source": [
        "## Uvoz potrebnih funkcija\n",
        "\n",
        "Radi smanjivanja razlika između programskog koda u Pythonu i u Matlabu u ovoj bilježnici ćemo namjerno uvesti sve potrebne funkcije iz <a href=\"https://www.scipy.org/\">SciPy</a>-ja, <a href=\"https://numpy.org/\">NumPy</a>-ja i <a href=\"https://matplotlib.org/\">Matplotlib</a>-a izravno u globalni imenik tako da možemo jednostavno pisati `fft` umjesto punog imena `scipy.fft.fft`.\n",
        "\n",
        "Svakako imajte u vidu da je ovakav pristup uvjetno prihvatljiv radi pojednostavljenja koda za laboratorijske vježbe jer su rizici kolizije i neočekivanih nuspojava minimalni. **Uvoz funkcija u globalni imenik se ne koristi u produkcijskom kodu.**\n",
        "\n",
        "Ako preferirate korištenje imenika i punih imena funkcija onda slobodno izmijenite naredbe za uvoz funkcija tako da sve uvezene funkcije ostanu strogo razdvojene."
      ]
    },
    {
      "cell_type": "code",
      "metadata": {
        "id": "PpDMuZ7on9Nh"
      },
      "source": [
        "# Uvezi potrebne funkcije u globalni imenik\n",
        "from numpy import *\n",
        "from numpy.random import *\n",
        "from matplotlib.pyplot import *\n",
        "from scipy.signal import *\n",
        "from scipy.fft import *"
      ],
      "execution_count": 6,
      "outputs": []
    },
    {
      "cell_type": "markdown",
      "metadata": {
        "id": "gxYnHRdLlgFH"
      },
      "source": [
        "# 1. Brza Fourierova transformcija\n",
        "\n",
        "Diskretna Fourierova transormacija u $N$ točaka ili $\\text{DFT}_N$ nekog vremenski diskretnog signala konačnog trajanja jest\n",
        "\n",
        "$$\\text{DFT}_N\\bigl[x[n]\\bigr]=X[k]=\\sum_{n=0}^{N-1} x[n]e^{-2\\pi j{nk\\over N}}=\\sum_{n=0}^{N-1}x[n]W_N^{nk},$$\n",
        "\n",
        "gdje je $X[k]$ spektar signala i gdje je\n",
        "\n",
        "$$W_b^{a}=e^{-2\\pi j {a\\over b}}$$\n",
        "\n",
        "diskretna kompleksna eksponencijala. Inverzna diskretna Fourierova transformacija jest\n",
        "\n",
        "$$\\text{IDFT}_N\\bigl[X[k]\\bigr]=x[n]=\\sum_{k=0}^{N-1} X[k]e^{2\\pi j{nk\\over N}}=\\sum_{n=0}^{N-1}X[k]W_N^{-nk}.$$\n",
        "\n",
        "Računanje diskretne Fourierove transformacije izravno prema definicijskom izrazu je skupo u ukupnom broju numeričkih operacija te ima vremensku složenost $O(N^2)$, odnosno moramo izvršiti točno $N^2$ operacija množenja kompleksnih brojeva i točno $N(N-1)$ operacija zbrajanja kompleksnih brojeva.\n",
        "\n",
        "Kako je diskretna Fourierova transformacija sveprisutna u obradbi signala želimo algoritam koji je može izračnuati efikasnije od složenosti definicijskog izraza $O(N^2)$. Sve takve algoritme koji značajno povećavaju efikasnost računanja diskretne Fourierove transformacije objedinjeno nazivamo algoritmima **brze Fourierove transformacije** ili **FFT** algoritmima, od engl. *fast Fourier transform*."
      ]
    },
    {
      "cell_type": "markdown",
      "metadata": {
        "id": "pPf7N0NNTcWp"
      },
      "source": [
        "## 1.1. Korijen-2 decimacija u vremenu\n",
        "\n",
        "Želimo li povećati efikasnost računanja vremenski diskretne Fourierove transformacije moramo nekako smanjiti broj operacija množenja i zbrajanja. Način smanjenja broja računskih operacija ovisi o broju točaka $N$. U ovoj laboratrijskoj vježbi ćemo razmatrati najjednostavniji slučaj smanjenja broja računskih operacija za kojeg je broj točaka $N$ potencija broja $2$, dakle $N=2^m$, odnosno kažemo da koristimo **korijen ili bazu dva** (engl. *radix-2*). Zatim ćemo primijeniti princip **podijeli pa vladaj** (engl. *divide-and-conquer*) kako bi smanjili ukupan broj operacija množenja i zbrajanja.\n",
        "\n",
        "Glavni korak izvoda svih korijen-2 FFT algoritma jest podjela ulaznog signala $x[n]$ u dva podsignala čije duljine su pola duljine ulaznog signala. \n",
        "\n",
        "Postoje dva načina podijele ulaznog signala za koja dobivamo značajno smanjenje ukupnog broja operacija množenja i zbrajanja. Prvi način jest podjela signala na parno i neparno indeksirane uzorke, kraće parno-neparna podjela, koja daje postupke **decimacije u vremenu** ili skraćeno DIT, od engl. *decimation-in-time*. Drugi način je podjela signala po njegovoj sredini na lijevu i desnu polovicu, kraće raspolavljanje signala, koja daje postupke **decimacije u frekvenciji** ili skraćeno DIF, od engl. *decimation-in-frequecny*. DIT i DIF postupci su međusobno dualni u smislu da parno-neparna podjela u jednoj domeni odgovara raspolavljanju u drugoj domeni, i obrnuto. \n",
        "\n",
        "Kod parno-neparne podjele ulaznog signala $x[n]$, $n=0,\\ldots ,N-1$, duljine $N$ uzoraka, taj signal dijelimo na parno indeksirani dio $x_e[n]=x[2n]$, $n=0,\\ldots ,N/2-1$, duljine $N/2$, i na neparno indeksirani dio $x_o[n]=x[2n+1]$, $n=0,\\ldots ,N-1$, duljine $N/2$.\n",
        "\n",
        "Kod raspolavljanja signala $x[n]$, $n=0,\\ldots ,N-1$, duljine $N$ uzoraka, taj signal raspolavljamo točno po sredini na prvi ili lijevi dio $x_1[n]=x[n]$, $n=0,\\ldots ,N/2-1$, duljine $N/2$, i na drugi ili desni dio $x_2[n]=x[n+N/2]$, $n=0,\\ldots ,N/2-1$, duljine $N/2$.\n",
        "\n",
        "Nakon što smo podijelili signal koristimo poznata svojstva kompleksne eksponencijale radi smanjivanja ukupnog broja računskih operacija. Preciznije, koristimo uobičajena svojstva svake eksponencijalne funkcije,\n",
        "\n",
        "$$W_c^{a+b}=W_c^aW_c^b,$$\n",
        "\n",
        "te dva svojstva diskretne kompleksne eksponencijale od kojih je prvo simetričnost,\n",
        "\n",
        "$$W_{N}^{k+N/2}=e^{-2\\pi j(k+{N\\over2})/N}=e^{-2\\pi jk/N}e^{-j\\pi}=-W_N^k,$$\n",
        "\n",
        "i drugo periodičnost \n",
        "\n",
        "$$W_{N}^{k+N}=e^{-2\\pi j(k+{N})/N}=e^{-2\\pi jk/N}e^{-j2\\pi}=W_N^k.$$\n",
        "\n",
        "Također primijetite da u korištenoj notaciji vrijedi $W_{b}^{a}=W^{a/b}=W_{b/a}$.\n",
        "\n",
        "\n",
        "Pokažimo sada jedan korak rastava za postupak decimacije u vremenu. Vrijedi:\n",
        "\n",
        "\\begin{align}\n",
        "\\text{DFT}_N\\bigl[x[n]\\bigr]=X[k]&=\\sum_{n=0}^{N-1}x[n]W_N^{nk}\\\\\n",
        "&=\\underbrace{\\sum_{n=0}^{N/2-1}x[2n]W_N^{2nk}}_{\\text{parni indeksi}}+\n",
        "\\underbrace{\\sum_{n=0}^{N/2-1}x[2n+1]W_N^{(2n+1)k}}_{\\text{neparni indeksi}}\\\\\n",
        "&=\\sum_{n=0}^{N/2-1}x[2n]W_{N}^{2nk}+\\sum_{n=0}^{N/2-1}x[2n+1]W_{N}^{2nk}W_N^k\\\\\n",
        "&=\\sum_{n=0}^{N/2-1}x[2n]W_{N/2}^{nk}+W_{N}^{k}\\sum_{n=0}^{N/2-1}x[2n+1]W_{N/2}^{nk}\\\\\n",
        "&=\\text{DFT}_{N/2}\\bigl[x[2n]\\bigr]+W_{N}^{k}\\text{DFT}_{N/2}\\bigl[x[2n+1]\\bigr].\n",
        "\\end{align}\n",
        "\n",
        "Jedan korak rastava za decimaciju u frekvenciji je dosta sličan pa ga ovdje preskačemo, no možete ga provesti za vježbu.\n",
        "\n",
        "Dobiveni rastav za decimaciju u vremenu znači da $\\text{DFT}_N$ transformaciju signala $x[n]$ možemo izračunati zbrajanjem $\\text{DFT}_{N/2}$ transformacije parno indeksiranih uzoraka $x[2n]$ i rotirane $\\text{DFT}_{N/2}$ transformacije neparno indeksiranih uzoraka $x[2n+2]$. Napomena: razmislite zašto množenje s kompleksnom eksponencijalom $W_N^k$ nazivamo rotacijom.\n",
        "\n",
        "Opisani korak rastava sada možemo ponovo primijeniti na svaku od dvije $\\text{DFT}_{N/2}$ transformacije. Općenito, rastav ponavljamo sve dok ne dođemo do pojedinačnih uzoraka. Na taj način dobivamo strukturu računanja koja je značajno efikasnija od izravnog računanja.\n",
        "\n",
        "Provednimo sada analizu složenosti. Za spajanje dvije diskretne Fourierove transformacije u pola uzoraka u jednu transformaciju pune duljine $N$ potrebno je barem $N-1$ operacija množenja i točno $N$ operacija zbrajanja kompleksnih brojeva, odnosno složenost spajanja dvije transformacije polovične duljine je određena duljinom dobivene transformacije i iznosi $O(N)$. Slično tome na svakoj razini podjele signala ukupna složenost svih spajanja je uvijek $N$ u broju potrebnih operacija (jer na razini rastava $r$ spajamo $2^r$ transformacija duljine $N/2^r$ u $2^{r-1}$ transformacija duljine $N/2^{r-1}$). Kako smo se ograničili na korijen-2 metodu za koju je $N=2^m$ signal možem dijeliti sve dok ne dođemo do pojedinačnih uzoraka. Prema tome ukupan broj podjela signala je $m=\\log_2N$, odnosno rastav ima $m$ razina, što znači da je ukupna složenost $O(Nm)=O(N\\log_2N)$. "
      ]
    },
    {
      "cell_type": "markdown",
      "metadata": {
        "id": "rP4DqKHKQXjB"
      },
      "source": [
        "## 1.2. Generalizirani FFT algoritmi\n",
        "\n",
        "Najopćenitiji podijeli-pa-vladaj pristup za efikasno računanje diskretne Fourierove transformacije opisali su J. W. Cooley i J. W. Tukey u svom istraživačkom radu [An algorithm for the machine calculation of complex Fourier series](https://doi.org/10.1090/S0025-5718-1965-0178586-1). \n",
        "Decimacija u vremenu i decimacija u frekveniji su posebni slučajevi Cooley-Tukeyevog algoritma.\n",
        "\n",
        "Obratite pažnju na to da se Cooley-Tukeyev algoritam i općenito svi ostali FFT algoritmi koji se temelje na principu podijeli-pa-vladaj mogu primijeniti jedino ako broj točaka $N$ (duljina ulaznog signala) **nije prosti broj**. Drugim riječima rečeno ako želimo pravilno podijeliti ulazni signal onda broj točaka mora biti složen broj. Ako je pak broj točaka **prost** broj onda ne možemo koristiti princip podijeli-pa-vladaj. Usprkos tome ipak postoje drugi algoritmi za efikasno računanje diskretne Fourierove transformacije u slučaju kada je broje točaka $N$ prost. Jedan primjer jest Raderov FFT algoritam kod kojeg se transformacija prvo iskazuje kao konvolucija te se zatim primijenjuje teorem o konvoluciji koji problem svodi na korištenje standardnih FFT algoritama kao što je Cooley-Tukeyev algoritam.\n",
        "\n",
        "Ako okupimo zajedno algoritme za efikasni izračun diskretne Fourierove transformacije za svaki mogući broj točaka $N$ onda time ostvarujemo univerzalno riješenje za efikasno određivanje DFT-a. To je upravo ono što radi  funkcija [`scipy.fft.fft`](https://docs.scipy.org/doc/scipy/reference/generated/scipy.fft.fft.html) u SciPyju i što radi funkcija [`fft`](https://www.mathworks.com/help/matlab/ref/fft.html) u Matlabu.\n",
        "\n",
        "Iako i SciPyjeva funkcija [`scipy.fft.fft`](https://docs.scipy.org/doc/scipy/reference/generated/scipy.fft.fft.html) i Matlabova funkcija [`fft`](https://www.mathworks.com/help/matlab/ref/fft.html) efikasno računaju diskretnu Foureriovu transformaciju one nisu nužno i optimalne/najbrže."
      ]
    },
    {
      "cell_type": "markdown",
      "metadata": {
        "id": "onYBbTUOQEyh"
      },
      "source": [
        "## 1.3. Samoprilagođujući FFT algoritmi\n",
        "\n",
        "Do sada opisani pristupi efikasnom računanju diskretne Fourierove transformacije su bili usredotočeni na složenost u broju operacija koja je smanjena s $O(N^2)$ na $O(N\\log_2N)$. No kod gotovo svih modernih računala [latencija](http://loci.cs.utk.edu/dsi/netstore99/docs/presentations/keynote/sld023.htm) je drugi značajni faktor kojeg treba uzeti u obzir.\n",
        "\n",
        "Za jako velike vrijednosti parametra $N$ usko grlo u obradbi postaje brzina kojom aritmetičko-logička procesna jedinica (ili jedinica za artimetiku s pomičnom točkom) prima potrebne podatke tijekom izračuna. Na primjer: ako izvršavanje jedne jednostavne instrukcije traje oko 0.5 ns, tada je trajanje dohvata podataka iz L1 priručne memorije oko 0.5 ns, iz L2 priručne memorije ko 7 ns, a iz glavne memorije oko 100 ns. Sve te navedene vrijednosti se razlikuju za barem dva reda veličine što znači da moramo pažljivo definirati način kako podaci dolaze do procesne jedinice jer je procesna jedinica značajno brža od glavne memorije. Stoga je osim smanjenja složenosti u broju operacija s $O(N^2)$ na $O(N\\log_2N)$ također važan i redoslijed izvođenja pojedinih operacija. Drugim riječima rečeno, instrukcijski cjevovod i memorijska hierarhija značajno utječu na performanse i zato uvijek moraju biti uzeti u obzir kod stvarnih implementacija FFT-a i svih ostalih algoritama koji rukuju s velikim količinama podataka.\n",
        "\n",
        "Korištenje višejezgrenih procesora dodatno otežava opisani problem kako efikasno slati podatke do procesnih jedinica.\n",
        "\n",
        "Obzirom na izobilje raznovrsnih modela procesora i računalnih arhitektura ne možemo dizajnirati jedan univerzalni algoritma za računanje diskretne Fourierove transformacije koji je ujedno i optimalan. Umjesto toga puno razumniji pristup jest definirati kako se neki algoritam može samostalno prilagoditi odabranom procesoru i pridruženoj računalnoj arhitekturi. U tom smislu želimo konstruirati **samoprilagođujući program** koji se samostalno prilagođava sklopovlju na kojem se izvodi.\n",
        "\n",
        "Dva temljena primjera kako je moguće samoprilagoditi program za numeričko računanje sklopovlju na kojem se izvršava su softverska biblioteka ATLAS koja je među prva definirala praktičnu metodologiju za samoprilagodbu softvera hardveru (vidi izvještaj R. C. Whaleya i J. J. Dongarra [Automatically Tuned Linear Algebra Software](http://www.netlib.org/lapack/lawnspdf/lawn131.pdf)) i softverska biblioteka FFTW koja je definirala metodologiju kako izvesti samoprilagođujuće potprograme za brzu Fourierovu transformaciju (vidi rad M. Friga i S. G. Johnsona [The Design and Implementation of FFTW3](https://doi.org/10.1109/JPROC.2004.840301)).\n",
        "\n",
        "U ovoj laboratorijskoj vježbi ćemo uz ScyPyjevu [`scipy.fft`](https://docs.scipy.org/doc/scipy/reference/tutorial/fft.html) koristiti i biblioteku FFTW radi demonstracije kako rade samoprilagođujući FFT algoritmi te istraživanja koliko ubrzanje možemo ostvariti. FFTW se može preuzeti s adrese http://fftw.org/.\n"
      ]
    },
    {
      "cell_type": "markdown",
      "metadata": {
        "id": "Y6lNyO8lm1bW"
      },
      "source": [
        "# 2. FFTW i pyFFTW\n",
        "\n",
        "Osim ScyPyjevog [`scipy.fft`](https://docs.scipy.org/doc/scipy/reference/tutorial/fft.html) koristit ćemo i biblioteku FFTW koja je slobodno dostupna na http://fftw.org/.\n",
        "\n",
        "Biblioteka FFTW u pravilu bolja od ostalih javno dostupnih implementacija FFT-a, a osim toga usporediva je i s komercijalnim paketima za numeričku analizu koje na tržište stavljaju proizvođači procesora kao što je na primjer [Intelov MKL](https://software.intel.com/sites/default/files/article/165868/intel-mkl-fft-training-ppt-v11.pdf). Biblioteka FFTW je napisana u programskom jeziku C i zbog svojstva samoprilagođavanja njene performanse su usporedive na različitim hardverskim platformama i pri tome nismo ograničeni na određeni hardver kao što je slučaj kod komercijalnih paketa.\n",
        "\n",
        "Ako želimo koristiti biblioteku FFTW u ovoj Jupyterskoj bilježnici na Colabu onda prvo instaliramo [pyFFTW](https://github.com/pyFFTW/pyFFTW) koristeći naredbu `pip` (ovisno o verziji Colaba ovaj korak može biti preskočen):\n"
      ]
    },
    {
      "cell_type": "code",
      "metadata": {
        "colab": {
          "base_uri": "https://localhost:8080/"
        },
        "id": "bGoTrO1UoYEc",
        "outputId": "dc54ce77-43f0-493a-cd05-d485584dc272"
      },
      "source": [
        "# Instaliraj pyfftw\n",
        "%pip install pyfftw\n",
        "\n",
        "# Uvezi potrebne module\n",
        "import pyfftw\n",
        "import multiprocessing\n",
        "import timeit"
      ],
      "execution_count": 7,
      "outputs": [
        {
          "output_type": "stream",
          "name": "stdout",
          "text": [
            "Looking in indexes: https://pypi.org/simple, https://us-python.pkg.dev/colab-wheels/public/simple/\n",
            "Requirement already satisfied: pyfftw in /usr/local/lib/python3.8/dist-packages (0.13.1)\n",
            "Requirement already satisfied: numpy<2.0,>=1.20 in /usr/local/lib/python3.8/dist-packages (from pyfftw) (1.21.6)\n"
          ]
        }
      ]
    },
    {
      "cell_type": "markdown",
      "metadata": {
        "id": "_DhDZJsJfsh6"
      },
      "source": [
        "Jednom kada je pyFFTW uspješno instaliran možemo ga koristiti za efikasno računanje diskretne Fourierove transformacije.\n",
        "\n",
        "U odnosu na `scipy.fft.fft` dvije glavne razlike u korištenju biblioteke FFTW su priprema **izračunskog plana** (engl. *computing plan*) kojom se samoprilagođujemo sklopovlju i uvjet da ulazni podaci moraju biti **poravnani** (engl. *aligned*).\n",
        "\n",
        "Priprema **izračunskog plana** provodi se samo jednom za odabranu vrijednost $N$, vrstu transformacije (normalna ili inverzna, kompleksni ili realni ulaz), te ulazni i izlazni međuspremnik (zbog poravnanja). Priprema izračunskog plana je srž samoprilagođavanja sklopovlju na kojem se program izvršava. Po završetku pripreme izračunskog plana isti se može trajno pohraniti te zatim koristiti po potrebi pa je prema tome priprema plana jednokratni trošak.\n",
        "\n",
        "**Poravnanje podataka** jest ograničenje sklopovlja koje je uglavnom potpuno skriveno u visokim programskim jezicima kao što je Python. Današnji procesori tipično podržavaju [SIMD](https://en.wikipedia.org/wiki/SIMD) instrukcije koje se koriste kada jednu računsku operaciju primjenjujemo na više podataka istovremeno. Primjer komercijalnih instrukcijski setova te namjene su između ostalog Intelov [AVX](https://software.intel.com/content/www/us/en/develop/articles/introduction-to-intel-advanced-vector-extensions.html) i Armov [Neon](https://www.arm.com/why-arm/technologies/neon).\n",
        "\n",
        "SIMD instrukcije općenito zahtijevaju da su podatci pohranjeni u poravnanim blokovima. Na primjer, instrukcija za istovremenu obradbu $4$ broja pohranjenja u dvostrukoj preciznosti zahtijeva da svaki blok podataka koji sadrži točno $4$ broja ima početnu memorijsku adresu koja je djeljiva s $32$ bajta, pa sukladno tome koristimo poravnanje na $128$ bita što je veličina jednog bloka. Ako dakle želimo maksimalno iskoristiti raspoloživu procesnu moć nekog procesora koji podržava SIMD instrukcije onda moramo ispravno poravnati sve podatke koji se nalaze u memoriji."
      ]
    },
    {
      "cell_type": "markdown",
      "metadata": {
        "id": "YU2TAQ_CPSm_"
      },
      "source": [
        "## 2.1. Korištenje biblioteke pyFFTW \n",
        "\n",
        "Upute za pyFFTW biblioteku su dostupne na https://pyfftw.readthedocs.io/.\n",
        "\n",
        "Također vam mogu biti korisne i upute za FFTW koje su dostupne na  http://www.fftw.org/fftw3_doc/.\n",
        "\n",
        "Pokažimo sada na primjeru kako pripremamo izračnuski plan za normalnu transformaciju u $N=128$ točaka nad poravnanim podacima. Okvirno, prvo pripremamo plan, zatim generiramo nasumični niz podataka za koji računamo diskretnu Fourierovu transformaciju korištenjem FFTW bibilioteke i korištenjem funkcije `scipy.fft.fft`, te na kraju uspoređujemo dobivene spektre koji moraju biti jednaki."
      ]
    },
    {
      "cell_type": "code",
      "metadata": {
        "colab": {
          "base_uri": "https://localhost:8080/"
        },
        "id": "0Q12OOqLmM4C",
        "outputId": "d6a2b720-f50f-4c50-bdd2-c5ef78bc57d1"
      },
      "source": [
        "# Omogući korištenje svih dostupnih procesorskih jezgri\n",
        "pyfftw.config.NUM_THREADS = multiprocessing.cpu_count();\n",
        "\n",
        "# Definiraj prostor za pohranu ulaznog signala i izlaznog spektra\n",
        "signal = pyfftw.empty_aligned(128, dtype='complex128');\n",
        "spektar = pyfftw.empty_aligned(128, dtype='complex128');\n",
        "\n",
        "# Stvori izračunski plan\n",
        "fft_plan_128 = pyfftw.FFTW(signal, spektar, direction='FFTW_FORWARD');\n",
        "\n",
        "# Generiraj podatke\n",
        "xr = randn(1, 128)\n",
        "xi = randn(1, 128)\n",
        "\n",
        "# Kopiraj podatke u ulazni spremnik\n",
        "x = xr + 1j*xi;\n",
        "signal[:] = x;\n",
        "\n",
        "# Izračunaj spektar korištenjem FFTW bibiloteke\n",
        "X1 = fft_plan_128();\n",
        "\n",
        "# Izračunaj spektar korištenjem funkcije fft\n",
        "X2 = fft(x);\n",
        "\n",
        "# Usporedi dobivene vrijednosti, rezultat mora biti True\n",
        "allclose(X1, X2)"
      ],
      "execution_count": 8,
      "outputs": [
        {
          "output_type": "execute_result",
          "data": {
            "text/plain": [
              "True"
            ]
          },
          "metadata": {},
          "execution_count": 8
        }
      ]
    },
    {
      "cell_type": "markdown",
      "metadata": {
        "id": "SSbhIZABt0Jc"
      },
      "source": [
        "Pripremu izračunskog plana vrši konstruktor [`pyfftw.FFTW`](https://pyfftw.readthedocs.io/en/latest/source/pyfftw/pyfftw.html#fftw-class). U ovom slučaju tražimo normalnu transformaciju kompleksnog signala. Stvoreni izračunski plan jest standardni, a ako želimo efikasniji plan onda možemo zadati zastavicu `FFTW_EXHAUSTIVE`.\n",
        "\n",
        "Izračun transformacije se pokreće pozivanjem metode `execute()` koja računa transformaciju podataka pohranjenih u varijabli `signal` (ulazni spremnik) i koja pohranjuje rezultat transformacije u varijablu `spektar` (izlazni spremnik). Izlazna varijabla `X1` je pokrata za `spektar`. U ovom slučaju transformaciju računamo za nasumično generirani niz podataka kojeg smo dobili korištenjem funkcije [`numpy.random.rand`](https://numpy.org/devdocs/reference/random/generated/numpy.random.rand.html), no to nas ne smeta jer nas zanima isključivo vrijeme izvođenja.\n",
        "\n",
        "Nakon izračuna pozivanjem funkcije [`numpy.allclose`](https://numpy.org/doc/stable/reference/generated/numpy.allclose.html) uspoređujemo rezultate funkcija `pyfftw.FFTW` i [`scipy.fft.fft`](https://docs.scipy.org/doc/scipy/reference/generated/scipy.fft.fft.html) kako bi provjerili ispravnost postupka. Očekivani izlaz je `True`."
      ]
    },
    {
      "cell_type": "markdown",
      "metadata": {
        "id": "W1SeQ61ZPPAa"
      },
      "source": [
        "## 2.2. Vrijeme izvođenja FFT algoritama\n",
        "\n",
        "S obzirom na postojanje mnoštva različitih implementacija FFT algoritma uvijek nas zanima koji od njih je najbrži obzirom na hardver kojeg koristimo. Kako bi odredili koji algoritam je najbrži moramo izmjeriti stvarno prosječno vrijeme izvođenja, a to možemo napraviti korištenjem modula [`timeit`](https://docs.python.org/3/library/timeit.html).\n",
        "\n",
        "Pokažimo sada na primjeru kako se koristi funkcije `timeit.timeit` za mjerenje vremena izvođenja FFTW algoritma: \n"
      ]
    },
    {
      "cell_type": "code",
      "metadata": {
        "colab": {
          "base_uri": "https://localhost:8080/"
        },
        "id": "CPA7A_EEpKlx",
        "outputId": "d8dbeda9-cf6f-4b9d-bf27-70251c984c8f"
      },
      "source": [
        "setup_FFTW = '''\n",
        "import pyfftw\n",
        "import multiprocessing\n",
        "import numpy\n",
        "pyfftw.config.NUM_THREADS = multiprocessing.cpu_count();\n",
        "N = 2**7 - 1;\n",
        "signal = pyfftw.empty_aligned(N, dtype='complex128');\n",
        "spectrum = pyfftw.empty_aligned(N, dtype='complex128');\n",
        "fft_plan = pyfftw.FFTW(signal, spectrum, direction='FFTW_FORWARD');\n",
        "xr = numpy.random.randn(1, N);\n",
        "xi = numpy.random.randn(1, N);\n",
        "signal[:] = xr + 1j*xi;\n",
        "''' \n",
        "\n",
        "code_FFTW = '''\n",
        "X = fft_plan();\n",
        "'''\n",
        "\n",
        "print( timeit.timeit(setup = setup_FFTW, stmt = code_FFTW, number=10000) )"
      ],
      "execution_count": 9,
      "outputs": [
        {
          "output_type": "stream",
          "name": "stdout",
          "text": [
            "0.05344228999996403\n"
          ]
        }
      ]
    },
    {
      "cell_type": "markdown",
      "metadata": {
        "id": "Aebf49riucLp"
      },
      "source": [
        "Uočite da je rezultat jednak vremenu potrebnom za 10000 ponavljanja izraženom u sekundama. Dakle, želimo li odrediti prosječno vrijeme jednog izvođenja DFT-a onda moramo podijeliti izlaz s brojem ponavljanja.\n",
        "\n",
        "Ovdje napominjemo da mjerenje vremena izvršavanja jednog poziva neke funkcije to nepouzdanije što je vrijeme izvođenja te funkcije kraće. Zato se standardno mjeri zbirno vrijeme višestrukog izvođenja funkcije pri čemu je broj ponavljanja to veći što funkcija kraće traje pa smo zato u ovom primjeru broj ponavljanja postavili na visokih 10000. Okvirno je funkcije čije izvršavanje traje oko 100 ms dovoljno ponoviti između 10 i 100 puta da bi se dobilo stabilno očekivano vrijeme izvođenja. Prema tome funkcije koje kraće traju je potrebno ponavljati više puta, a funkcije koje kraće traju manje puta. Osim toga kod mjerenja vremena izvršavanja funkcija koje traju jako dugo potrebno je osigurati da je opterećenje računala od strane ostalih zadataka stalno.\n",
        "\n",
        "Pokažimo sada kako koristimo `timeit.timeit` za mjerenje vremena izvođenja funkcije `scipy.fft.fft`: "
      ]
    },
    {
      "cell_type": "code",
      "metadata": {
        "colab": {
          "base_uri": "https://localhost:8080/"
        },
        "id": "xWMy_KZcsq59",
        "outputId": "66933e87-a5fe-4a2a-d1de-265304c5757a"
      },
      "source": [
        "setup_fft = '''\n",
        "import numpy\n",
        "import scipy.fft\n",
        "N = 2**7 - 1;\n",
        "xi = numpy.random.randn(1, N);\n",
        "xr = numpy.random.randn(1, N);\n",
        "x = xr + 1j*xi;\n",
        "''' \n",
        "\n",
        "code_fft = '''\n",
        "X = scipy.fft.fft(x);\n",
        "'''\n",
        "\n",
        "print( timeit.timeit(setup = setup_fft, stmt = code_fft, number=10000) )"
      ],
      "execution_count": 10,
      "outputs": [
        {
          "output_type": "stream",
          "name": "stdout",
          "text": [
            "0.12693563099998073\n"
          ]
        }
      ]
    },
    {
      "cell_type": "markdown",
      "metadata": {
        "id": "n137BGrWTrbZ"
      },
      "source": [
        "## 2.A Usporedba `scipy.fft.fft` i FFTW\n",
        "\n",
        "Korištenjem modula `timeit` želimo objektivno usporediti vrijeme izvođenja samoprilagođujućeg FFTW algoritma u odnosu na `scipy.fft.fft`, i to za odabranu vrstu ulaznog signala i za odabrani broj točaka.\n",
        "\n",
        "Najčešća primjena FFT algoritma je za računanje diskretne Fourierove transformacije nekog **realnog** niza podataka.\n",
        "\n",
        "Napišite programski kod koji koristi pyFFTW biblioteku i koji prvo priprema **izračnuski plan** (možete koristite zastavicu `FFTW_EXHAUSTIVE` no imajte u vidu da mjerenje vremena izvršavanja svih mogućih izračnuskih planova može trajati jako dugo, i to pogotovo za transformacije u velikom broju točaka) koji koristi **sve dostupne jezgre procesora** za transformaciju **realnog niza podataka** (slobodno dodajte koliko god programskih blokova vam treba):"
      ]
    },
    {
      "cell_type": "code",
      "metadata": {
        "id": "9rY58OwhoHff",
        "colab": {
          "base_uri": "https://localhost:8080/"
        },
        "outputId": "d5d1425d-7a08-4f0e-bddd-2a27b325908f"
      },
      "source": [
        "setup_FFTW = '''\n",
        "import pyfftw\n",
        "import multiprocessing\n",
        "import numpy\n",
        "pyfftw.config.NUM_THREADS = multiprocessing.cpu_count();\n",
        "N = 2**19 -1; \n",
        "signal = pyfftw.empty_aligned(N, dtype='complex128');\n",
        "spectrum = pyfftw.empty_aligned(N, dtype='complex128');\n",
        "fft_plan = pyfftw.FFTW(signal, spectrum, direction='FFTW_FORWARD');\n",
        "xr = numpy.random.randn(1, N);\n",
        "xi = numpy.random.randn(1, N);\n",
        "signal[:] = xr + 1j*xi;\n",
        "''' \n",
        "\n",
        "code_FFTW = '''\n",
        "X = fft_plan();\n",
        "'''\n",
        "print('N = 2**19 - 1: ' + str(timeit.timeit(setup = setup_FFTW, stmt = code_FFTW, number=1000) ))"
      ],
      "execution_count": 16,
      "outputs": [
        {
          "output_type": "stream",
          "name": "stdout",
          "text": [
            "N = 2**19 - 1: 90.198379359\n"
          ]
        }
      ]
    },
    {
      "cell_type": "markdown",
      "metadata": {
        "id": "WMKHS7pbUvyp"
      },
      "source": [
        "Nakon što dovršite tražni kod usporedite vremena izvođenja funkcije `scipy.fft.fft` s vremenima izvođenja pripremljenog izračunskog plana za različite vrijednosti broja točaka $N$ koje se nalaza u tablici ispod ovog bloka (slobodno dodajte koliko god programskih blokova vam treba):"
      ]
    },
    {
      "cell_type": "code",
      "metadata": {
        "id": "2TPq6ADaUwG1",
        "colab": {
          "base_uri": "https://localhost:8080/"
        },
        "outputId": "8ba3cc91-17d6-4726-b01a-0fb318b08aad"
      },
      "source": [
        "setup_fft = '''\n",
        "import numpy\n",
        "import scipy.fft\n",
        "N = 2**19 - 1;\n",
        "xi = numpy.random.randn(1, N);\n",
        "xr = numpy.random.randn(1, N);\n",
        "x = xr + 1j*xi;\n",
        "''' \n",
        "\n",
        "code_fft = '''\n",
        "X = scipy.fft.fft(x);\n",
        "'''\n",
        "\n",
        "print('N = 2**19 - 1: ' + str(timeit.timeit(setup = setup_fft, stmt = code_fft, number=1000) ))"
      ],
      "execution_count": 22,
      "outputs": [
        {
          "output_type": "stream",
          "name": "stdout",
          "text": [
            "N = 2**19 - 1: 88.63430612100001\n"
          ]
        }
      ]
    },
    {
      "cell_type": "code",
      "source": [
        "!df -h\n",
        "!cat /proc/cpuinfo\n",
        "!cat /proc/meminfo"
      ],
      "metadata": {
        "colab": {
          "base_uri": "https://localhost:8080/"
        },
        "id": "DNCkP64Dmw8o",
        "outputId": "27f44d2f-9b97-41e5-ac27-e74ee834370e"
      },
      "execution_count": 23,
      "outputs": [
        {
          "output_type": "stream",
          "name": "stdout",
          "text": [
            "Filesystem      Size  Used Avail Use% Mounted on\n",
            "overlay         108G   24G   85G  22% /\n",
            "tmpfs            64M     0   64M   0% /dev\n",
            "shm             5.8G     0  5.8G   0% /dev/shm\n",
            "/dev/root       2.0G  1.1G  841M  58% /sbin/docker-init\n",
            "tmpfs           6.4G   36K  6.4G   1% /var/colab\n",
            "/dev/sda1        70G   48G   22G  69% /etc/hosts\n",
            "tmpfs           6.4G     0  6.4G   0% /proc/acpi\n",
            "tmpfs           6.4G     0  6.4G   0% /proc/scsi\n",
            "tmpfs           6.4G     0  6.4G   0% /sys/firmware\n",
            "processor\t: 0\n",
            "vendor_id\t: GenuineIntel\n",
            "cpu family\t: 6\n",
            "model\t\t: 79\n",
            "model name\t: Intel(R) Xeon(R) CPU @ 2.20GHz\n",
            "stepping\t: 0\n",
            "microcode\t: 0xffffffff\n",
            "cpu MHz\t\t: 2199.998\n",
            "cache size\t: 56320 KB\n",
            "physical id\t: 0\n",
            "siblings\t: 2\n",
            "core id\t\t: 0\n",
            "cpu cores\t: 1\n",
            "apicid\t\t: 0\n",
            "initial apicid\t: 0\n",
            "fpu\t\t: yes\n",
            "fpu_exception\t: yes\n",
            "cpuid level\t: 13\n",
            "wp\t\t: yes\n",
            "flags\t\t: fpu vme de pse tsc msr pae mce cx8 apic sep mtrr pge mca cmov pat pse36 clflush mmx fxsr sse sse2 ss ht syscall nx pdpe1gb rdtscp lm constant_tsc rep_good nopl xtopology nonstop_tsc cpuid tsc_known_freq pni pclmulqdq ssse3 fma cx16 pcid sse4_1 sse4_2 x2apic movbe popcnt aes xsave avx f16c rdrand hypervisor lahf_lm abm 3dnowprefetch invpcid_single ssbd ibrs ibpb stibp fsgsbase tsc_adjust bmi1 hle avx2 smep bmi2 erms invpcid rtm rdseed adx smap xsaveopt arat md_clear arch_capabilities\n",
            "bugs\t\t: cpu_meltdown spectre_v1 spectre_v2 spec_store_bypass l1tf mds swapgs taa mmio_stale_data retbleed\n",
            "bogomips\t: 4399.99\n",
            "clflush size\t: 64\n",
            "cache_alignment\t: 64\n",
            "address sizes\t: 46 bits physical, 48 bits virtual\n",
            "power management:\n",
            "\n",
            "processor\t: 1\n",
            "vendor_id\t: GenuineIntel\n",
            "cpu family\t: 6\n",
            "model\t\t: 79\n",
            "model name\t: Intel(R) Xeon(R) CPU @ 2.20GHz\n",
            "stepping\t: 0\n",
            "microcode\t: 0xffffffff\n",
            "cpu MHz\t\t: 2199.998\n",
            "cache size\t: 56320 KB\n",
            "physical id\t: 0\n",
            "siblings\t: 2\n",
            "core id\t\t: 0\n",
            "cpu cores\t: 1\n",
            "apicid\t\t: 1\n",
            "initial apicid\t: 1\n",
            "fpu\t\t: yes\n",
            "fpu_exception\t: yes\n",
            "cpuid level\t: 13\n",
            "wp\t\t: yes\n",
            "flags\t\t: fpu vme de pse tsc msr pae mce cx8 apic sep mtrr pge mca cmov pat pse36 clflush mmx fxsr sse sse2 ss ht syscall nx pdpe1gb rdtscp lm constant_tsc rep_good nopl xtopology nonstop_tsc cpuid tsc_known_freq pni pclmulqdq ssse3 fma cx16 pcid sse4_1 sse4_2 x2apic movbe popcnt aes xsave avx f16c rdrand hypervisor lahf_lm abm 3dnowprefetch invpcid_single ssbd ibrs ibpb stibp fsgsbase tsc_adjust bmi1 hle avx2 smep bmi2 erms invpcid rtm rdseed adx smap xsaveopt arat md_clear arch_capabilities\n",
            "bugs\t\t: cpu_meltdown spectre_v1 spectre_v2 spec_store_bypass l1tf mds swapgs taa mmio_stale_data retbleed\n",
            "bogomips\t: 4399.99\n",
            "clflush size\t: 64\n",
            "cache_alignment\t: 64\n",
            "address sizes\t: 46 bits physical, 48 bits virtual\n",
            "power management:\n",
            "\n",
            "MemTotal:       13297200 kB\n",
            "MemFree:         9040512 kB\n",
            "MemAvailable:   12309808 kB\n",
            "Buffers:          354364 kB\n",
            "Cached:          2887176 kB\n",
            "SwapCached:            0 kB\n",
            "Active:           632472 kB\n",
            "Inactive:        3396156 kB\n",
            "Active(anon):       1324 kB\n",
            "Inactive(anon):   581120 kB\n",
            "Active(file):     631148 kB\n",
            "Inactive(file):  2815036 kB\n",
            "Unevictable:           0 kB\n",
            "Mlocked:               0 kB\n",
            "SwapTotal:             0 kB\n",
            "SwapFree:              0 kB\n",
            "Dirty:               400 kB\n",
            "Writeback:             0 kB\n",
            "AnonPages:        786864 kB\n",
            "Mapped:           253244 kB\n",
            "Shmem:              1200 kB\n",
            "KReclaimable:     129128 kB\n",
            "Slab:             159632 kB\n",
            "SReclaimable:     129128 kB\n",
            "SUnreclaim:        30504 kB\n",
            "KernelStack:        4048 kB\n",
            "PageTables:        13996 kB\n",
            "NFS_Unstable:          0 kB\n",
            "Bounce:                0 kB\n",
            "WritebackTmp:          0 kB\n",
            "CommitLimit:     6648600 kB\n",
            "Committed_AS:    2803604 kB\n",
            "VmallocTotal:   34359738367 kB\n",
            "VmallocUsed:        8916 kB\n",
            "VmallocChunk:          0 kB\n",
            "Percpu:             1328 kB\n",
            "HardwareCorrupted:     0 kB\n",
            "AnonHugePages:     32768 kB\n",
            "ShmemHugePages:        0 kB\n",
            "ShmemPmdMapped:        0 kB\n",
            "FileHugePages:         0 kB\n",
            "FilePmdMapped:         0 kB\n",
            "CmaTotal:              0 kB\n",
            "CmaFree:               0 kB\n",
            "HugePages_Total:       0\n",
            "HugePages_Free:        0\n",
            "HugePages_Rsvd:        0\n",
            "HugePages_Surp:        0\n",
            "Hugepagesize:       2048 kB\n",
            "Hugetlb:               0 kB\n",
            "DirectMap4k:       92992 kB\n",
            "DirectMap2M:     5146624 kB\n",
            "DirectMap1G:    10485760 kB\n"
          ]
        }
      ]
    },
    {
      "cell_type": "markdown",
      "metadata": {
        "id": "YPz93crTU7VX"
      },
      "source": [
        "Vremena izvođenja ovise o računalu kojeg koristite za izvođenje ove vježbe. Naredba *Restart and run all* u Colabu briše sve izlaze pa zato vaše rezultate upišite u doljenavedenu tablicu.\n",
        "\n",
        "| Duljina signala | Vrijeme izvođenja za FFTW (s) | Vrijeme izvođenja za `scipy.fft.fft` (s) |\n",
        "| --- | --- | --- |\n",
        "| $N=2^{8}$    | **0.0049** | **0.01665** |\n",
        "| $N=2^{10}$   | **0.0138** | **0.02525** |\n",
        "| $N=2^{12}$   | **0.0476** | **0.07437** |\n",
        "| $N=2^{13}-1$ | **0.6021** | **1.2167** |\n",
        "| $N=2^{17}-1$ | **15.5108** | **17.1228** |\n",
        "| $N=2^{19}-1$ | **90.1984** | **88.6343** |\n",
        "\n",
        "Dodatno, pribilježite ostale interesantne podatke o korištenom računalu i/ili korištenom virtualnom stroju kao što su broj jezgri procesora, broj ponavljanja, itd.:\n",
        "\n",
        "**Specifikacije računala (Colab) su ispisani u gornjem okviru. Modificiran je argument number s 10000 na 1000 kako bi izvršavanje bilo brže.**\n",
        "\n",
        "Neobavezni dodatni zadatak: Napišite programski kod koja automatizira mjerenje vremena izvođenja te ga iskoristite za crtanje grafa koji prikazuje kako vrijeme izvođenja ovisi o broju točaka signala, i to za sve vrijednosti $N$ koje podržava računalo (ili virtualni stroj) kojeg koristite za izradu vježbe."
      ]
    },
    {
      "cell_type": "markdown",
      "metadata": {
        "id": "JPjeTysSuvgZ"
      },
      "source": [
        "## 3. Primjene FFT-a u obradbi signala\n",
        "\n",
        "Sada kad znamo što je FFT i kako ga računamo razmotrimo važne primjene u području obradbe signala.\n",
        "\n",
        "Najčešća primjena FFT-a u digitalnoj obradbi signala jest za najobičnije računanje spektra nekog signala. Tu primjenu smo pokazali na prvoj laboratorijskoj vježbi.\n",
        "\n",
        "Druge dvije značajne primjene FFT-a u digitalnoj obradbi signala su za efikasno računanje konvolucija i korelacija signala konačnog trajanja."
      ]
    },
    {
      "cell_type": "markdown",
      "metadata": {
        "id": "yu-nipcVb6hK"
      },
      "source": [
        "## 3.1. Obradba signala u blokovima\n",
        "\n",
        "Prisjetimo se da FIR filtar reda $M$ ima impulsni odziva $h[n]$ konačne duljine od $M+1$ uzorka, dakle\n",
        "\n",
        "$$h[n]=\\begin{cases}0,& n<0\\\\b_n,&0\\le n\\le M\\\\0,&M<n \\end{cases},$$\n",
        "\n",
        "gdje su $b_n$ koeficijenti brojnika prijenosne funkcije filtra.\n",
        "\n",
        "Odziv $y[n]$ takvog FIR filtra na neki ulazni signal $x[n]$ jest konvolucija\n",
        "\n",
        "$$y[n]=x[n] \\ast h[n]=\\sum_{m=-\\infty}^{+\\infty}x[m]h[n-m]=\\sum_{m=-\\infty}^{+\\infty}x[n-m]h[m].$$\n",
        "\n",
        "Neka je $w_L[n]$ pravokutni vremenski otvor duljine $L$, odnosno\n",
        "\n",
        "$$w_L[n]=\\begin{cases}1,&0\\le n<L\\\\0,&\\text{inače}\\end{cases}.$$\n",
        "\n",
        "Pomoću pravokutnog otvora $w_L[n]$ možemo ulazni signal $x[n]$ rastaviti na **nepreklapajuće** blokove $x_k[n]$ duljine $L$, odnosno \n",
        "\n",
        "$$x[n]=\\sum_{k=-\\infty}^{+\\infty}\\underbrace{x[n]w_L[n-k L]}_{x_k[n]}.$$\n",
        "\n",
        "Konvolucija sada postaje\n",
        "\n",
        "\\begin{align}\n",
        "y[n]=x[n] \\ast h[n]&=\\sum_{m=-\\infty}^{+\\infty}x[m]h[n-m]\\\\\n",
        "&=\\sum_{m=-\\infty}^{+\\infty}\\Bigl(\\sum_{k=-\\infty}^{+\\infty}x[m]w_L[m-k L]\\Bigr)h[n-m]\\\\\n",
        "&=\\sum_{k=-\\infty}^{+\\infty}\\Bigl(\\sum_{m=-\\infty}^{+\\infty}x[m]w_L[m-k L]h[n-m]\\Bigr)\\\\\n",
        "&=\\sum_{k=-\\infty}^{+\\infty}\\Bigl(\\underbrace{\\bigl(x[n]w_L[n-kL]\\bigr) \\ast h[n]}_{y_k[n]}\\Bigr),\n",
        "\\end{align}\n",
        "\n",
        "odnosno prepoznajemo da je izlaz $y[n]$ također rastavljen na blokove $y_k[n]$. Svaki izlazni blok $y_k[n]$ jednak je konvoluciji $k$-tog ulaznog bloka $x_k[n]=x[n]w_L[n-kL]$ i implsnog odzvia $h[n]$.\n",
        "\n",
        "I ulazni blok $x_k[n]=x[n]w_L[n-kL]$ i impulsni odziv $h[n]$ su konačnog trajanja s duljinama $L$ i $M+1$. Sukladno tome izlazni blok $y_k[n]$ je duljine $L+M$. Obzirom da je posmak izlaznih blokova $y_k[n]$ točno $kL$ kažemo da je izlazni signal $y[n]$ rastavljen na **preklapajuće** blokove jer je duljina izlaznog bloka $L+M$ veća od razmaka $L$ između blokova.\n",
        "\n",
        "Rastav signala u blokove je osnova blokovske obradbe čija ključna prednost jest da primjenom teorema o konvoluciji te poznavanjem veze između **linearne** i **cirkularne** konvolucije možemo efikasno korištenjem FFT-a obraditi svaki blok pojedinačno.\n",
        "\n",
        "Ovisno o tome kako se rješava problem preklapanja izlaznih blokova pri spajanju rezultata pojedinačne obradbe blokova razlikujemo metodu dodavanja preklopa (engl. *overlap-add*) i metodu odbacivanja preklopa (engl. *overlap-save*). U ovoj vježbi raspravu ograničavamo samo na postupke obradbe pojedinačnog bloka i ne ulazimo u detalje kako najefikasnije spojiti blokove u izlazni signal."
      ]
    },
    {
      "cell_type": "markdown",
      "metadata": {
        "id": "enPAPTfk_kla"
      },
      "source": [
        "## 3.2. Linearna i cirkularna konvolucija\n",
        "\n",
        "Osnovna operacija za obradbu signala u blokovima jest konvolucija dva signala konačnog trajanja, u našem slučaju signali su $x_k[n]=x[n]w_L[n]$ i $h[n]$. Ne smanjujući općenitost razmatramo samo obradbu prvog bloka $x_0[n]$ za kojeg je konvolucija\n",
        "\n",
        "$$y_0[n]=x_0[n]\\ast h[n]=\\sum_{m=\\max(0,n-L+1)}^{\\min{n,M}}h[m]x_0[n-m].$$\n",
        "\n",
        "Tako definirana konvolucija dva vremenski diskretna signala naziva se **linearna konvolucija** (engl. *linear convolution*).\n",
        "\n",
        "Linearna konvolucija je povezana s teoremom o konvoluciji za vremenski diskretnu Fourierovu transforaciju (DTFT) koji govori da se **linarana** konvolucija dva vremenski diskretna signala u vremenskoj domeni transformira u običan umnožak njihovih spektara u frekvencijskoj domeni.\n",
        "\n",
        "S druge strane, teorem o konvoluciji za diskretnu Fourierovu transformaciju u $N$ točaka $(\\text{DFT}_N)$ odnosni se na **cirkularnu konvoluciju** (engl. *circular convolution*). Cirkularna konvolucija dva signala duljina $N$ je \n",
        "\n",
        "$$x_0[n]\\circledast h[n]=\\sum_{m=0}^{N-1}h[m]x_0\\bigl[\\langle n-m\\rangle_N],$$\n",
        "\n",
        "gdje oznaka $\\langle n-m\\rangle_N$ znači da je indeks $n-m$ izračunat modulo $N$. Takvo indeksiranje određeno funkcijom ostatka (modul) opravdava naziva **cirkularna**, **ciklička** ili **kružna** konvolucija. Kako bi razlikovali linearnu i cirkularnu konvoluciju cirkularnu konvoluciju obično označavamo sa zaokruženom zvjezdicom ili asteriskom, a linearnu konvoluciju s običnom zvjezdicom.\n",
        "\n",
        "Teorem o konvoluciji za diskretnu Fourierovu transformaciju (DFT) govori da se **cirkularna** konvolucija dva vremenski diskretna signala u vremenskoj domeni transformira u običan umnožak njihovih spektara u frekvencijskoj domeni.\n",
        "\n",
        "Jasno je da se dvije navedene definicije konvolucije razlikuju, odnosno za DTFT je relevantna linearna konvolucija dok je za DFT relevantna cirkularna konvolucija.\n",
        "\n",
        "Međutim, ako odaberemo broj točaka $N$ za $\\text{DFT}_N$ tako da vrijedi\n",
        "\n",
        "$$N\\ge M+L$$\n",
        "\n",
        "onda konvolucije postaju jednake, dakle\n",
        "\n",
        "$$\\sum_{m=0}^{N-1}h[m]x_0\\bigl[\\langle n-m\\rangle_N]=\\sum_{m=\\max(0,n-L+1)}^{\\min{n,M}}h[m]x_0[n-m]$$\n",
        "\n",
        "za $0\\le n< M+L$. Uočite da oba signala imaju manje točaka od $N$, odnosno signal $h[n]$ je duljine $M+1<N$ dok je signal $x_0[n]$ duljine $L<N$. Ostale točke signala do duljine $N$ moraju biti jednako nuli. Kažemo da ako dva signala konačnog trajanja proširimo dometkom nula (engl. *zero-padding*) tada za dovoljno veliki dometnuti broj nula cirkularna konvolucija postaje identična linearnoj konvoluciji.\n",
        "\n",
        "To znači da ako odaberemo dovoljno velik broj točaka $N$ takav da je $N$ veći ili jednak zbroju duljina signala umanjenom za jedan, dakle u našem primjeru $N\\ge (M+1)+L-1=M+L$, onda možemo izračunati **linearnu** konvoluciju korištenjem teorema o konvoluciji za $\\text{DFT}_N$. Prema tome vrijedi\n",
        "\n",
        "$$x_0[n] \\ast h[n] = \\sum_{m=\\max(0,n-L+1)}^{\\min{n,M}}h[m]x_0[n-m] = \\text{IDFT}_N\\bigl[\\underbrace{\\text{DFT}_N\\bigl[x_0[n]\\bigr]}_{X_0[k]}\\cdot\\underbrace{\\text{DFT}_N\\bigl[h[n]\\bigr]}_{H[k]}\\bigr]=\\text{IDFT}_N\\bigl[X_0[k]H[k]\\bigr].$$\n",
        "\n",
        "Razmotrimo sada kolika je složenost u broju operacija za izravno računanje konvolucijske sume te kolika je složenost u broju operacija računanja dvije $\\text{DFT}_N$ transformacije, njihovog umnoška, i inverzne transformacije $\\text{IDFT}_N$.\n",
        "\n",
        "Gornja ograda broja operacija množenja u jednoj iteraciji sume jest $\\min(M+1,L)$. Tu sumu moramo izračunati ukupno $M+L$ puta ako želimo odrediti sve izlazne uzorke jednog bloka. Neka je $N=M+L$ duljina izlaznog bloka (uočite kako je odabrana duljna istodobno i minimalna duljina diskretne Fourierove transformacije). Nadalje, $\\min(M+1,L)$ je obično $M+1$ jer je impuslni odziv je često kraći od duljine jednog bloka signala. Ukupan broj operacija množenja je tada ograničen odozgo s $N(M+1)$. Na sličan način možemo odrediti potreban broj operacija zbrajanja. Svekupuno, složenost u broju operacija izravnog računanja konvolucije jest $O\\bigl(NM)$.\n",
        "\n",
        "S druge strane ako koristimo brzu Fourierovu transformaciju moramo izračunati tri transformacije u $N$ točaka (dvije izravne transformacije i jedna inverzna transformacija) tako da je složenost u broju operacija opet $O(N\\log_2 N)$ uz konstantu 3 koju smo odbacili. Složenost jednostavnog množenja dva spektra jest $O(N)$. Prema tome složenost korištenja FFT-a za računanje linerane konvolucije ostaje $O(N\\log_2 N)$, no s dosta većom konstantom u odnosu na samo jedan FFT. Također uočite kako je impulsni odziv $h[n]$ gotovo uvijek nepromjenjiv pa se njegova transformacija može unaprijed izračunati, odnosno radi se o jednokratnom trošku.\n",
        "\n",
        "Obizrom na sve navedeno ako odaberemo dovoljno veliku duljinu bloka $L$ i ako $M$ nije premali onda obradba signala u blokovima postaje efikasnija u odnosu na izravno računanje konvolucijske sume prema definiciji. Glavni nedostatak je u umjetno dodanom kašnjenju koje usporava obradbu u stvarnom vremenu: da bi obradili jedan blok moramo čekati i prikupiti svih $L$ uzoraka jednog ulaznog bloka i tek onda možemo provesti izračun. Zbog navedenoga je obradba signala u blokovima idealna za primjene koje ne traže rad u stvarnom vremenu. "
      ]
    },
    {
      "cell_type": "markdown",
      "metadata": {
        "id": "zZ9Guo8QX_0w"
      },
      "source": [
        "Pokažimo sada na primjeru kako računamo konvoluciju $z[n]=x[n]\\ast y[n]$ između signala $x[n] =\\{\\underline{1},2,3,4\\}$ i $y[n]=\\{\\underline{0,1,1,0}\\}$ izravno prema definiciji korištenjem funkcije [`scipy.signal.convolve`](https://docs.scipy.org/doc/scipy/reference/generated/scipy.signal.convolve.html) te efikasnije korištenjem funkcije `scipy.fft.fft`:"
      ]
    },
    {
      "cell_type": "code",
      "metadata": {
        "colab": {
          "base_uri": "https://localhost:8080/"
        },
        "id": "PucrlQNyRFbU",
        "outputId": "3504af38-811f-4866-adce-b637594f0d71"
      },
      "source": [
        "# Definiranje signala\n",
        "x = array([1.0, 2.0, 3.0, 4.0]);\n",
        "y = array([0.0, 1.0, 1.0, 0.0]);\n",
        "\n",
        "# Izračunaj konvoluciju i ispiši dobivene vrijednosti\n",
        "z1 = convolve(x,y);\n",
        "print(z1)\n",
        "\n",
        "# Postavi minimalnu duljinu DFT-a\n",
        "N = len(x) + len(y) - 1\n",
        "\n",
        "# Izračunaj transformacije signala s dometnutim nulama\n",
        "X = fft( concatenate(( x, zeros(N-len(x)) )) )\n",
        "Y = fft( concatenate(( y, zeros(N-len(y)) )) )\n",
        "\n",
        "# Pomnoži spektre\n",
        "Z = X * Y;\n",
        "\n",
        "# Izračunaj inverznu transformaciju\n",
        "z2 = ifft( Z );\n",
        "print(z2)\n",
        "\n",
        "# Usporedi dobivene vrijednosti, rezultat mora biti \"True\"\n",
        "allclose(z1, z2)"
      ],
      "execution_count": 24,
      "outputs": [
        {
          "output_type": "stream",
          "name": "stdout",
          "text": [
            "[0. 1. 3. 5. 7. 4. 0.]\n",
            "[3.48927236e-16+0.j 1.00000000e+00+0.j 3.00000000e+00+0.j\n",
            " 5.00000000e+00+0.j 7.00000000e+00+0.j 4.00000000e+00+0.j\n",
            " 8.24737104e-16+0.j]\n"
          ]
        },
        {
          "output_type": "execute_result",
          "data": {
            "text/plain": [
              "True"
            ]
          },
          "metadata": {},
          "execution_count": 24
        }
      ]
    },
    {
      "cell_type": "markdown",
      "metadata": {
        "id": "9fT4oA1EZfO6"
      },
      "source": [
        "## 3.A Usporedba izravnog računanja konvolucije i računanja pomoću FFT-a\n",
        "\n",
        "Funkcija [`scipy.signal.convolve`](https://docs.scipy.org/doc/scipy/reference/generated/scipy.signal.convolve.html) podržava dodatni argument `method` koji se može postaviti na `direct` i na `fft` ovisno o tome koji način računanja konvolucije želimo koristiti. Znamo da korištenje FFT ima značajan dodatni trošak pa očekujemo da je izravno računanje bolje za male $N$-ove i da je računanje korištenjem FFT-a bolje za velike $N$-ove.\n",
        "\n",
        "Cilj nam je pronaći konkretnu vrijednost $N$ na kojoj se vremena izvršavanja sijeku za konkretni hardver na kojem pokrećete ovu Jupytersku bilježnicu.\n",
        "\n",
        "Napišite programski kod koji koristeći modul `timeit` mjeri vrijeme izvođenja konvolucije između dva slučajna niza istih duljina $N$ (slobodno dodajte koliko god programskih blokova vam treba):"
      ]
    },
    {
      "cell_type": "code",
      "metadata": {
        "id": "hmK1ykfHacKy"
      },
      "source": [
        "def return_time (signal1, signal2, method):\n",
        "    return timeit.timeit (lambda: convolve (signal1, signal2, method = method), number = 1000)"
      ],
      "execution_count": 25,
      "outputs": []
    },
    {
      "cell_type": "markdown",
      "metadata": {
        "id": "zFU68ju1af3-"
      },
      "source": [
        "Vaš zadatak je sada pronaći za koju vrijednost $N$ računanje konvolucije pomoću FFT postaje brže od izravnog računanja.\n",
        "\n",
        "Uputa: Nakon što ste pripremili kod za mjerenje vremena izvođenja jedne konvolucije za fiksni $N$ napišite programsku petlju koja mijenja $N$ počevši od npr. $N=10$ do $N=4000$ s korakom $100$, te koja u svakoj iteraciji mjeri i sprema vrijeme računanja konvolucije na oba načina. Zatim iskoristite ta izmjerena vremena kako bi točnije odredili parametre petlje, a zatim odredite približno nakon kojeg $N$-a korištenje FFT-a postaje efikasnije od izravnog računanja.\n",
        "\n",
        "Slobodno dodajte koliko god programskih blokova vam treba."
      ]
    },
    {
      "cell_type": "code",
      "metadata": {
        "id": "1yPETqNna05C",
        "colab": {
          "base_uri": "https://localhost:8080/"
        },
        "outputId": "25b68630-a3d8-4922-ed2e-9e76e1b4395f"
      },
      "source": [
        "direct = []\n",
        "fft_arr = []\n",
        "for i in range (10, 4000, 100):\n",
        "    signal1 = randn(i)\n",
        "    signal2 = randn(i)\n",
        "    \n",
        "    direct_time = return_time (signal1, signal2, 'direct')\n",
        "    fft_time = return_time (signal1, signal2, 'fft')\n",
        "    \n",
        "    direct.append(direct_time)\n",
        "    fft_arr.append (fft_time)\n",
        "    \n",
        "    if (fft_time < direct_time):\n",
        "        print ('FFT time: ' + str(fft_time) + ' < ' + 'Direct time: ' + str(direct_time) )\n",
        "        print ('N = ', i)\n",
        "\n"
      ],
      "execution_count": 27,
      "outputs": [
        {
          "output_type": "stream",
          "name": "stdout",
          "text": [
            "FFT time: 0.10210066999979972 < Direct time: 0.11333643099987967\n",
            "N =  610\n",
            "FFT time: 0.10558615099989765 < Direct time: 0.13476713399995788\n",
            "N =  710\n",
            "FFT time: 0.12251607000007425 < Direct time: 0.1678979650000656\n",
            "N =  810\n",
            "FFT time: 0.1410628109999834 < Direct time: 0.2193513400000029\n",
            "N =  910\n",
            "FFT time: 0.14023279299999558 < Direct time: 0.2975547189998906\n",
            "N =  1010\n",
            "FFT time: 0.13137451800002964 < Direct time: 0.29397338699982356\n",
            "N =  1110\n",
            "FFT time: 0.14861876500003746 < Direct time: 0.3458541370000603\n",
            "N =  1210\n",
            "FFT time: 0.15148476400008803 < Direct time: 0.37646423199998935\n",
            "N =  1310\n",
            "FFT time: 0.14018386800012195 < Direct time: 0.42174959799990575\n",
            "N =  1410\n",
            "FFT time: 0.155555239000023 < Direct time: 0.47558045899995705\n",
            "N =  1510\n",
            "FFT time: 0.18962608799984082 < Direct time: 0.521027808000099\n",
            "N =  1610\n",
            "FFT time: 0.16097744500007138 < Direct time: 0.5858553149998897\n",
            "N =  1710\n",
            "FFT time: 0.17807380899989766 < Direct time: 0.660747868000044\n",
            "N =  1810\n",
            "FFT time: 0.16532020699992245 < Direct time: 0.7270441949999622\n",
            "N =  1910\n",
            "FFT time: 0.187180896999962 < Direct time: 0.8096684170000117\n",
            "N =  2010\n",
            "FFT time: 0.184289827999919 < Direct time: 0.8591092919998573\n",
            "N =  2110\n",
            "FFT time: 0.18960305099994912 < Direct time: 0.9434548720000748\n",
            "N =  2210\n",
            "FFT time: 0.18701599499991062 < Direct time: 1.0467667319999236\n",
            "N =  2310\n",
            "FFT time: 0.24496427100007168 < Direct time: 1.1827793859999929\n",
            "N =  2410\n",
            "FFT time: 0.20937445799995658 < Direct time: 1.3003577790000236\n",
            "N =  2510\n",
            "FFT time: 0.22865613300018595 < Direct time: 1.4400685690000046\n",
            "N =  2610\n",
            "FFT time: 0.25213290200008487 < Direct time: 1.5512978629999452\n",
            "N =  2710\n",
            "FFT time: 0.23836185999994086 < Direct time: 1.6820401499999207\n",
            "N =  2810\n",
            "FFT time: 0.2508159129999967 < Direct time: 1.818440111999962\n",
            "N =  2910\n",
            "FFT time: 0.2687187929998345 < Direct time: 2.0063750809999874\n",
            "N =  3010\n",
            "FFT time: 0.2515764659999604 < Direct time: 2.1211434249999\n",
            "N =  3110\n",
            "FFT time: 0.2761558130000594 < Direct time: 2.29563269900018\n",
            "N =  3210\n",
            "FFT time: 0.5439033409998046 < Direct time: 2.6132129360000818\n",
            "N =  3310\n",
            "FFT time: 0.27095637899992653 < Direct time: 3.150139817999843\n",
            "N =  3410\n",
            "FFT time: 0.2899119520000113 < Direct time: 2.8177366259999417\n",
            "N =  3510\n",
            "FFT time: 0.3010183149999648 < Direct time: 2.986885073000167\n",
            "N =  3610\n",
            "FFT time: 0.3115015419998599 < Direct time: 3.164319853000052\n",
            "N =  3710\n",
            "FFT time: 0.28255335899984857 < Direct time: 3.337175322999883\n",
            "N =  3810\n",
            "FFT time: 0.2895453369999359 < Direct time: 3.52203297799997\n",
            "N =  3910\n"
          ]
        }
      ]
    },
    {
      "cell_type": "code",
      "source": [
        "figure(1)\n",
        "plot (range(10,4000,100), direct, label = 'direct')\n",
        "plot (range(10,4000,100), fft_arr, label = 'fft') \n",
        "xlabel ('N')\n",
        "ylabel ('Time')\n",
        "title ('Convolve time')\n",
        "legend()\n",
        "show()"
      ],
      "metadata": {
        "colab": {
          "base_uri": "https://localhost:8080/",
          "height": 295
        },
        "id": "9uCUIym9nyMb",
        "outputId": "8f360f56-1c86-4e60-dabb-cf231b6ecc60"
      },
      "execution_count": 28,
      "outputs": [
        {
          "output_type": "display_data",
          "data": {
            "text/plain": [
              "<Figure size 432x288 with 1 Axes>"
            ],
            "image/png": "[encoded data removed]"
          },
          "metadata": {
            "needs_background": "light"
          }
        }
      ]
    },
    {
      "cell_type": "markdown",
      "metadata": {
        "id": "-Yag8cbTa2Ba"
      },
      "source": [
        "Dobivena vremena izvođenja ovise o računalu na kojem rješavate ovu vježbu. Naredba *Restart and run all* u Colabu briše sve izlaze pa zato dobivene rezultate prekopirajte u vaš odgovor.\n",
        "\n",
        "Broj točaka $N$ nakon kojeg FFT postaje efikasniji u odnosu na izravno računanje jest:\n",
        "\n",
        "**610**\n",
        "\n",
        "Neobavezni dodatni zadatak: ponovite cijeli postupak mjerenja vremena izvođenja uz korištenje FFTW-a umjesto standardnog Pythonovg FFT-a. Uputa: pogledajte dokumentaciju za `pyfftw.interfaces.scipy_fft`."
      ]
    },
    {
      "cell_type": "markdown",
      "metadata": {
        "id": "nQYM0-bJb-au"
      },
      "source": [
        "## 3.3. Linearna i cirkularna korelacija\n",
        "\n",
        "Neka su $x[n]$ i $y[n]$ dva realna niza konačnog trajanja $L_x$ i $L_y$. Linearna korelacija niza $x[n]$ prema niz $y[n]$ jest\n",
        "\n",
        "$$x[n] \\star y[n] = r_{xy}[n] = \\sum_{m=-\\infty}^{+\\infty} x[n+m]y^*[m],$$\n",
        "\n",
        "a linearna korelacija niza $y[n]$ prema nizu $x[n]$ jest\n",
        "\n",
        "$$y[n] \\star x[n] = r_{yx}[n] = \\sum_{m=-\\infty}^{+\\infty} y[n+m]x^*[n].$$\n",
        "\n",
        "Uočite da korelacija za razliku od konvoluciju nije komutativna, no ako su signali realni onda vrijedi\n",
        "\n",
        "$$y[n] \\star x[n] = r_{yx}[n] = \\sum_{m=-\\infty}^{+\\infty} y[n+m]x[m] = \\sum_{m=-\\infty}^{+\\infty} y[m]x[m-n] = r_{xy}[-n].$$\n",
        "\n",
        "Korelacija između dva vremenski diskretna signala kako smo je definirali se\n",
        "preciznije zove **linearna korelacija**, a ponekad dodatno naglašavamo da se radi o determinističkoj linearnoj korelaciji. Slično kao i za teorem o konvoluciji za vremenski diskretnu Fourierovu transforamciju (DTFT), teorem o korelaciji govori da se linearana korelacija dva vremenski diskretna signala u vremenskoj domeni transformira se u obično množenje između konjugiranog spektra prvog signala i spektra drugog signala u frekvencijskoj domeni. Prema tome vrijedi\n",
        "\n",
        "$$\\text{DTFT}\\bigl[x[n] \\star y[n]\\bigr]=\\text{DTFT}\\Bigl[\\sum_{m=-\\infty}^{+\\infty} x[m+n]y^*[m]\\Bigr]=X(\\omega)Y^*(\\omega)$$\n",
        "\n",
        "i\n",
        "\n",
        "$$\\text{DTFT}\\bigl[y[n] \\star x[n]\\bigr]=\\text{DTFT}\\Bigl[\\sum_{m=-\\infty}^{+\\infty} y[n+m]x^*[n]\\Bigr]=Y(\\omega)X^*(\\omega).$$\n",
        "\n",
        "Slično, neka su $x[n]$ i $y[n]$ dva niza konačnog trajanja duljine $N$. **Cirkularna korelacija** signala $x[n]$ prema signalu $y[n]$ računa se kao  \n",
        "\n",
        "$$\\tilde r_{xy}[n] = \\sum_{m=0}^{N-1} x\\bigl[\\langle n+m\\rangle_N\\bigr]y^*[m],$$\n",
        "\n",
        "a od $y[n]$ prema signalu $x[n]$ računa se kao\n",
        "\n",
        "$$\\tilde r_{yx}[n] = \\sum_{m=0}^{N-1} y\\bigl[\\langle n+m\\rangle_N\\bigr]x^*[m].$$\n",
        "\n",
        "Ako su signali realni onda vrijedi\n",
        "\n",
        "$$\\tilde r_{yx}[n] = \\sum_{m=0}^{N-1} y\\bigl[\\langle n+m\\rangle_N\\bigr]x[m]=\\sum_{m=0}^{N-1} y[m]x\\bigl[\\langle m-n\\rangle_N\\bigr]=\\tilde r_{xy}\\bigl[\\langle -n\\rangle_N\\bigr].$$\n",
        "\n",
        "Slično kao i kod cirkularne konvolucije cirkularnu ili kružnu korelaciju označavamo zaokruženom zvjezdom, no istu nije moguće napisati u standardnoj Jupyterskoj bilježnici.\n",
        "\n",
        "Za cirkularnu korelaciju možemo izreći teorem o korelaciji za diskretnu Fourierovu transformaciju (DFT) koji govori da vrijedi\n",
        "\n",
        "$$\\text{DFT}_N\\bigl[\\tilde r_{xy}[n]\\bigr]=\\text{DFT}_N\\Bigl[\\;\\sum_{m=0}^{N-1} x\\bigl[\\langle n+m\\rangle_N\\bigr]y^*[m]\\,\\Bigr]=X[k]Y^*[k]$$\n",
        "\n",
        "i da vrijedi\n",
        "\n",
        "$$\\text{DFT}_N\\bigl[\\tilde r_{yx}[n]]=\\text{DFT}_N\\Bigl[\\;\\sum_{m=0}^{N-1} y\\bigl[\\langle n+m\\rangle_N\\bigr]x^*[m]\\,\\Bigr]=Y[k]X^*[k].$$\n",
        "\n",
        "Veza između linearne i cirkularne korelacija se može izvesti slično kao što je izvedena veza linarne i cirkularne konvolucije. Analiza složenosti je pak identična.\n",
        "\n",
        "Prema tome FFT možemo koristiti za efikasno računanje korelacije između dva niza konačnog trajanja s glavnom razlikom da dometak nula (engl. *zero padding*) nije isti kao kod konvolucije gdje se nule uvijek domeću na desni dio. Kod računanja korelacija u jedan niz domećemo nule na lijevu stranu, a u drugi niz na desnu stranu. Konjugiramo spektar onog niza kojem smo nule dometnuli na desno."
      ]
    },
    {
      "cell_type": "markdown",
      "metadata": {
        "id": "AyuyPFAXVgFf"
      },
      "source": [
        "Pokažimo sada na primjeru kako računamo korelacije $r_{xy}[n]=x[n]\\star y[n]$ i $r_{yx}[n]=y[n]\\star x[n]$ između signala $x[n] =\\{\\underline{1},2,3,4\\}$ i $y[n]=\\{\\underline{0,1,1,0}\\}$ izravno prema definiciji korištenjem funkcije [`scipy.signal.correlate`](https://docs.scipy.org/doc/scipy/reference/generated/scipy.signal.correlate.html) te efikasnije korištenjem funkcije `scipy.fft.fft`:"
      ]
    },
    {
      "cell_type": "code",
      "metadata": {
        "colab": {
          "base_uri": "https://localhost:8080/"
        },
        "id": "vM3EHlp2VcJI",
        "outputId": "dd34faf1-3ad6-47aa-e159-34557f3b34f7"
      },
      "source": [
        "# Definiranje signala\n",
        "x = array([1.0, 2.0, 3.0, 4.0]);\n",
        "y = array([0.0, 1.0, 1.0, 0.0]);\n",
        "\n",
        "# Izračunaj korelacije i ispiši ih\n",
        "# Uočite da su r_xy i r_yx zrcaljeni oko centralnog uzorka\n",
        "r1_xy = correlate(x,y);\n",
        "r1_yx = correlate(y,x);\n",
        "print(r1_xy);\n",
        "print(r1_yx);\n",
        "\n",
        "# Postavi minimalnu duljinu DFT-a\n",
        "N = len(x) + len(y) - 1;\n",
        "\n",
        "# Izračunaj transformacije signala s dometnutim nulama i pomnoži ih\n",
        "# Uvijek konjugiramo spektar kojem su nule dometnute nadesno\n",
        "X = fft( concatenate(( zeros(N-len(x)), x )) )\n",
        "Y = fft( concatenate(( y, zeros(N-len(y)) )) )\n",
        "R_XY = X * conjugate(Y);\n",
        "\n",
        "X = fft( concatenate(( x, zeros(N-len(x)) )) )\n",
        "Y = fft( concatenate(( zeros(N-len(y)), y )) )\n",
        "R_YX = conjugate(X) * Y;\n",
        "\n",
        "# Izračunaj inverzne transformacije\n",
        "r2_xy = ifft( R_XY );\n",
        "r2_yx = ifft( R_YX );\n",
        "print(r2_xy)\n",
        "print(r2_yx)\n",
        "\n",
        "# Usporedi vrijednosti, rezultat mora biti \"True\"\n",
        "print(allclose(r1_xy, r2_xy))\n",
        "print(allclose(r1_yx, r2_yx))"
      ],
      "execution_count": 29,
      "outputs": [
        {
          "output_type": "stream",
          "name": "stdout",
          "text": [
            "[0. 1. 3. 5. 7. 4. 0.]\n",
            "[0. 4. 7. 5. 3. 1. 0.]\n",
            "[-4.44089210e-16+0.j  1.00000000e+00+0.j  3.00000000e+00+0.j\n",
            "  5.00000000e+00+0.j  7.00000000e+00+0.j  4.00000000e+00+0.j\n",
            "  3.80647894e-16+0.j]\n",
            "[2.37904934e-16+0.j 4.00000000e+00+0.j 7.00000000e+00+0.j\n",
            " 5.00000000e+00+0.j 3.00000000e+00+0.j 1.00000000e+00+0.j\n",
            " 2.53765263e-16+0.j]\n",
            "True\n",
            "True\n"
          ]
        }
      ]
    },
    {
      "cell_type": "markdown",
      "metadata": {
        "id": "AE1Ae7nQbPnk"
      },
      "source": [
        "## 3.B Usporedba izravnog računanja korelacije i računanja pomoću FFT-a\n",
        "\n",
        "Funkcija [`scipy.signal.correlate`](https://docs.scipy.org/doc/scipy/reference/generated/scipy.signal.correlate.html) podržava dodatni argument `method` koji se može postaviti na `direct` ili na `fft` ovisno o tome koji način računanja korelacije želimo koristiti. Znamo da korištenje FFT ima značajan dodatni trošak pa očekujemo da je izravno računanje bolje za male $N$-ove i da je računanje korištenjem FFT-a bolje za velike $N$-ove.\n",
        "\n",
        "Cilj nam je pronaći konkretnu vrijednost $N$ na kojoj se vremena izvršavanja sijeku za konkretni hardver na kojem pokrećete ovu Jupytersku bilježnicu.\n",
        "\n",
        "Napišite programski kod koji koristeći modul `timeit` mjeri vrijeme izvođenja računanja korelacije između dva slučajna niza istih duljina $N$ (slobodno dodajte koliko god programskih blokova vam treba):"
      ]
    },
    {
      "cell_type": "code",
      "metadata": {
        "id": "DmPaip2ubwSR"
      },
      "source": [
        "def return_time2 (signal1, signal2, method):\n",
        "    return timeit.timeit (lambda: correlate (signal1, signal2, method = method), number = 1000)"
      ],
      "execution_count": 30,
      "outputs": []
    },
    {
      "cell_type": "markdown",
      "metadata": {
        "id": "XWJwIozibwnZ"
      },
      "source": [
        "Vaš zadatak je sada pronaći za koju vrijednost $N$ računanje korelacije pomoću FFT postaje brže od izravnog računanja.\n",
        "\n",
        "Uputa: Nakon što ste pripremili kod za mjerenje vremena izvođenja jedne korelacije za fiksni $N$ napišite programsku petlju koja mijenja $N$ počevši od npr. $N=10$ do $N=4000$ s korakom $100$, te koja u svakoj iteraciji mjeri i sprema vrijeme računanja konvolucije na oba načina. Zatim iskoristite ta izmjerena vremena kako bi točnije odredili parametre petlje, a zatim odredite približno nakon kojeg $N$-a korištenje FFT-a postaje efikasnije od izravnog računanja.\n",
        "\n",
        "Slobodno dodajte koliko god programskih blokova vam treba."
      ]
    },
    {
      "cell_type": "code",
      "metadata": {
        "id": "F5C4oMPlbwyY",
        "colab": {
          "base_uri": "https://localhost:8080/"
        },
        "outputId": "cda69865-178f-47f9-ce27-c8434059fc11"
      },
      "source": [
        "direct = []\n",
        "fft_arr = []\n",
        "for i in range (10, 4000, 100):\n",
        "    signal1 = randn(i)\n",
        "    signal2 = randn(i)\n",
        "    \n",
        "    direct_time = return_time2 (signal1, signal2, 'direct')\n",
        "    fft_time = return_time2 (signal1, signal2, 'fft')\n",
        "    \n",
        "    direct.append(direct_time)\n",
        "    fft_arr.append (fft_time)\n",
        "    \n",
        "    if (fft_time < direct_time):\n",
        "        print ('FFT time: ' + str(fft_time) + ' < ' + 'Direct time: ' + str(direct_time) )\n",
        "        print ('N = ', i)\n",
        "\n"
      ],
      "execution_count": 31,
      "outputs": [
        {
          "output_type": "stream",
          "name": "stdout",
          "text": [
            "FFT time: 0.10130102799985252 < Direct time: 0.10704484799998681\n",
            "N =  610\n",
            "FFT time: 0.10774832599986439 < Direct time: 0.13059436500020638\n",
            "N =  710\n",
            "FFT time: 0.12804254599996057 < Direct time: 0.16257994099987627\n",
            "N =  810\n",
            "FFT time: 0.13745584899993446 < Direct time: 0.2072171420002178\n",
            "N =  910\n",
            "FFT time: 0.13166085200009547 < Direct time: 0.2420329019998917\n",
            "N =  1010\n",
            "FFT time: 0.1413720979999198 < Direct time: 0.2993048789999193\n",
            "N =  1110\n",
            "FFT time: 0.13797730999999658 < Direct time: 0.33111456100004943\n",
            "N =  1210\n",
            "FFT time: 0.15785280400018564 < Direct time: 0.3749850229999083\n",
            "N =  1310\n",
            "FFT time: 0.15820285199993123 < Direct time: 0.41324387300005583\n",
            "N =  1410\n",
            "FFT time: 0.1571778519999043 < Direct time: 0.4769721870000012\n",
            "N =  1510\n",
            "FFT time: 0.1756301440000243 < Direct time: 0.5269320830000197\n",
            "N =  1610\n",
            "FFT time: 0.205510022999988 < Direct time: 0.589823602000024\n",
            "N =  1710\n",
            "FFT time: 0.1923399109998627 < Direct time: 0.6446780159999435\n",
            "N =  1810\n",
            "FFT time: 0.17536863500004074 < Direct time: 0.7329181709999375\n",
            "N =  1910\n",
            "FFT time: 0.19178636900005586 < Direct time: 0.7884100209998905\n",
            "N =  2010\n",
            "FFT time: 0.1978991529999803 < Direct time: 0.85850835500014\n",
            "N =  2110\n",
            "FFT time: 0.19942053499994472 < Direct time: 0.9526366480001798\n",
            "N =  2210\n",
            "FFT time: 0.21629806499981896 < Direct time: 1.0550364739999623\n",
            "N =  2310\n",
            "FFT time: 0.24417678500003603 < Direct time: 1.1700693400000546\n",
            "N =  2410\n",
            "FFT time: 0.20411173899992718 < Direct time: 1.2923971949999213\n",
            "N =  2510\n",
            "FFT time: 0.24335831500002314 < Direct time: 1.4420981279999978\n",
            "N =  2610\n",
            "FFT time: 0.23696716399990692 < Direct time: 1.5510031960000106\n",
            "N =  2710\n",
            "FFT time: 0.2450412549999328 < Direct time: 1.6981036669999412\n",
            "N =  2810\n",
            "FFT time: 0.25838669900008426 < Direct time: 1.8421837380001307\n",
            "N =  2910\n",
            "FFT time: 0.2785850089999258 < Direct time: 2.0015093720001005\n",
            "N =  3010\n",
            "FFT time: 0.26440937999996095 < Direct time: 2.1426800379999804\n",
            "N =  3110\n",
            "FFT time: 0.25950693599997976 < Direct time: 2.272431203999986\n",
            "N =  3210\n",
            "FFT time: 0.282079486999919 < Direct time: 2.446859866000068\n",
            "N =  3310\n",
            "FFT time: 0.26548007699989284 < Direct time: 2.622553473999915\n",
            "N =  3410\n",
            "FFT time: 0.29363165500012656 < Direct time: 2.8231795169999714\n",
            "N =  3510\n",
            "FFT time: 0.2946428120001201 < Direct time: 2.9670648380001694\n",
            "N =  3610\n",
            "FFT time: 0.3164645860001656 < Direct time: 3.1473956909999288\n",
            "N =  3710\n",
            "FFT time: 0.30347881399984544 < Direct time: 3.334613028000149\n",
            "N =  3810\n",
            "FFT time: 0.2973194379999313 < Direct time: 3.5373023969998485\n",
            "N =  3910\n"
          ]
        }
      ]
    },
    {
      "cell_type": "code",
      "source": [
        "\n",
        "plot (range(10,4000,100), direct, label = 'direct')\n",
        "plot (range(10,4000,100), fft_arr, label = 'fft') \n",
        "xlabel ('N')\n",
        "ylabel ('Time')\n",
        "title ('Correlate time')\n",
        "legend()\n",
        "show()"
      ],
      "metadata": {
        "colab": {
          "base_uri": "https://localhost:8080/",
          "height": 295
        },
        "id": "OCI74tHrol9g",
        "outputId": "2f8b607d-2835-4a4a-87f4-60a2d1215687"
      },
      "execution_count": 32,
      "outputs": [
        {
          "output_type": "display_data",
          "data": {
            "text/plain": [
              "<Figure size 432x288 with 1 Axes>"
            ],
            "image/png": "[encoded data removed]"
          },
          "metadata": {
            "needs_background": "light"
          }
        }
      ]
    },
    {
      "cell_type": "markdown",
      "metadata": {
        "id": "QSPDvarQbxdH"
      },
      "source": [
        "Dobivena vremena izvođenja ovise o računalu na kojem rješavate ovu vježbu. Naredba *Restart and run all* u Colabu briše sve izlaze pa zato dobivene rezultate prekopirajte u vaš odgovor.\n",
        "\n",
        "Broj točaka $N$ nakon kojeg FFT postaje efikasniji u odnosu na izravno računanje korelacije jest:\n",
        "\n",
        "**610 (ili nekad 710)**\n",
        "\n",
        "Neobavezni dodatni zadatak: ponovite cijeli postupak mjerenja vremena izvođenja uz korištenje FFTW-a umjesto standardnog Pythonovg FFT-a. Uputa: pogledajte dokumentaciju za `pyfftw.interfaces.scipy_fft`."
      ]
    }
  ]
}